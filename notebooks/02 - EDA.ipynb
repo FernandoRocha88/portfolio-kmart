{
  "cells": [
    {
      "cell_type": "markdown",
      "metadata": {
        "id": "0aStgWSO0E0E"
      },
      "source": [
        "# Kmart Analysis"
      ]
    },
    {
      "cell_type": "markdown",
      "metadata": {
        "id": "1eLEkw5O0ECa"
      },
      "source": [
        "## Objectives\n",
        "\n",
        "\n",
        "* Define business requirements\n",
        "* Conduct EDA: explore data distribution, plot data for discovery\n",
        "* Start determining content at Tableau Dashboard (Use cases, KPI's, Design)\n",
        "\n",
        "\n",
        "## Inputs\n",
        "\n",
        "* `inputs/dataset/kmart_processed_data.csv`, generated at \"notebooks/01 - Data Collection.ipynb\"\n",
        "\n",
        "## Outputs\n",
        "\n",
        "* same as Objectives\n",
        "\n",
        "\n",
        "\n",
        "\n",
        "\n"
      ]
    },
    {
      "cell_type": "markdown",
      "metadata": {
        "id": "9uWZXH9LwoQg"
      },
      "source": [
        "---"
      ]
    },
    {
      "cell_type": "markdown",
      "metadata": {
        "id": "_AbCnTnSqYP4"
      },
      "source": [
        "# Install and load packages"
      ]
    },
    {
      "cell_type": "code",
      "execution_count": null,
      "metadata": {
        "id": "s3-FyjxCcEI0"
      },
      "outputs": [],
      "source": [
        "! pip install pandas==1.3.5\n",
        "! pip install matplotlib==3.5.0\n",
        "! pip install seaborn==0.11.2\n",
        "! pip install plotly==5.1.0\n",
        "! pip install feature-engine==1.4.0 \n",
        "! pip install pandas-profiling==3.3.0 \n",
        "\n",
        "import os\n",
        "os.kill(os.getpid(), 9)"
      ]
    },
    {
      "cell_type": "code",
      "execution_count": null,
      "metadata": {
        "id": "lTlHtCpocEI3"
      },
      "outputs": [],
      "source": [
        "import numpy as np\n",
        "import pandas as pd\n",
        "pd.set_option('display.max_columns', None)\n",
        "import matplotlib.pyplot as plt\n",
        "import seaborn as sns\n",
        "sns.set_style(\"whitegrid\")"
      ]
    },
    {
      "cell_type": "markdown",
      "metadata": {
        "id": "_tdAGw4Zwssu"
      },
      "source": [
        "---"
      ]
    },
    {
      "cell_type": "markdown",
      "metadata": {
        "id": "t2oPUd1K_qCr"
      },
      "source": [
        "# Load Data"
      ]
    },
    {
      "cell_type": "markdown",
      "metadata": {
        "id": "-w5u_vxBWBGn"
      },
      "source": [
        "Clone Repo used for project development"
      ]
    },
    {
      "cell_type": "code",
      "execution_count": null,
      "metadata": {
        "colab": {
          "base_uri": "https://localhost:8080/"
        },
        "id": "MVIqf8_iHu37",
        "outputId": "76a1072b-85d4-47ec-9564-20e17117317c"
      },
      "outputs": [],
      "source": [
        "! git clone https://github.com/FernandoRocha88/portfolio-kmart.git"
      ]
    },
    {
      "cell_type": "code",
      "execution_count": null,
      "metadata": {
        "colab": {
          "base_uri": "https://localhost:8080/",
          "height": 350
        },
        "id": "FxjAPPZcWHxT",
        "outputId": "4d8a208f-8fd8-473b-f8b4-dde30cd383e7"
      },
      "outputs": [],
      "source": [
        "df = pd.read_csv(\"/content/portfolio-kmart/inputs/dataset/kmart_processed_data.csv\")\n",
        "print(df.shape)\n",
        "df.head(2)"
      ]
    },
    {
      "cell_type": "markdown",
      "metadata": {
        "id": "8W7Qpx0NtnZg"
      },
      "source": [
        "---"
      ]
    },
    {
      "cell_type": "markdown",
      "metadata": {
        "id": "2YRAuPodunqK"
      },
      "source": [
        "# EDA"
      ]
    },
    {
      "cell_type": "markdown",
      "metadata": {
        "id": "dnzt9ShEdcAG"
      },
      "source": [
        "Univariate Exploration with Pandas Profiling"
      ]
    },
    {
      "cell_type": "code",
      "execution_count": null,
      "metadata": {
        "id": "2AG7ieS1up8D"
      },
      "outputs": [],
      "source": [
        "from pandas_profiling import ProfileReport\n",
        "pandas_report = ProfileReport(df=df, minimal=True)\n",
        "pandas_report.to_notebook_iframe()"
      ]
    },
    {
      "cell_type": "markdown",
      "metadata": {
        "id": "_VShydVDX333"
      },
      "source": [
        "* The dataset has **185.6k rows**\n",
        "* There are **178.4k unique orders** in 2019\n",
        "* There are **19 products** sold. Charging Cable, Batteries and headphones are most sold\n",
        "* There are 140.7k unique purchase addresses. \n",
        "  * We assume a given customer has 1 address and didnt change in 2019. \n",
        "  * As a result, there are **140.7k customers** buying from us in 2019\n",
        "* **Line of products**: 45% of ordered items are Cables and Accessories represents, followed by Audio with 26%, followed by PC and Video Games with 13%. Together, these sum 84%\n",
        "* **8 States**: 40% of ordered items are from CA, 13.5% from NY and TX, and 11% from MA. These 4 states sum almost 78%\n",
        "* **10 Cities**: 25% of sales are in San Francisco, 16% in LA, 13% in NY and 10% in Boston. These sum 64% of all items orders\n",
        "\n",
        "\n"
      ]
    },
    {
      "cell_type": "markdown",
      "metadata": {
        "id": "h-0P2lJNiMvH"
      },
      "source": [
        "---"
      ]
    },
    {
      "cell_type": "markdown",
      "metadata": {
        "id": "sttu3weNd_80"
      },
      "source": [
        "# Business Requirements, Analysis and Dashboard"
      ]
    },
    {
      "cell_type": "markdown",
      "metadata": {
        "id": "j2xpxMLxefJh"
      },
      "source": [
        "### Business Requirements"
      ]
    },
    {
      "cell_type": "markdown",
      "metadata": {
        "id": "z4yD-lbOeg8B"
      },
      "source": [
        "* Understand Overall Results and Patterns, in terms of Margin, Revenue, # Orders, # Customers, over time or across different products/regions \n",
        "\n",
        "* Discuss business strategies, based on product, product and customer behaviour"
      ]
    },
    {
      "cell_type": "markdown",
      "metadata": {
        "id": "5d0F9YEDej6W"
      },
      "source": [
        "### Analysis"
      ]
    },
    {
      "cell_type": "markdown",
      "metadata": {
        "id": "gwb47FwlW8B0"
      },
      "source": [
        "Questions to be answered in the notebook, since its use cases belong to an initial exploratory data analysis and tend not to require interactiveness that Tableau brings\n",
        "* **What is the City, State distribution and its amount of orders?**\n",
        "* **Product Basket**\n",
        "* **Customer behaviour**\n",
        "\n"
      ]
    },
    {
      "cell_type": "markdown",
      "metadata": {
        "id": "M9eUz5ZHY-OX"
      },
      "source": [
        "---"
      ]
    },
    {
      "cell_type": "markdown",
      "metadata": {
        "id": "chvM4TIGiNW8"
      },
      "source": [
        "### Dashboard"
      ]
    },
    {
      "cell_type": "markdown",
      "metadata": {
        "id": "no56e3fNhdxJ"
      },
      "source": [
        "Use cases to be explored at Tableau (due to interactiveness), using flexible and parameter controlled plot types\n",
        "* Analytics Explorer\n",
        "  * What is the `percentual margin / sales / margin / cost / count of order /  count of customer` per `quarters / months / weeks / days of month / weekday / hours / city / state / product line / product` colored by `time / city / product` ?\n",
        "  * Bar plot, controlled by parameters for x axis, y axis and color by. Hamburger menu with additional series of filter\n",
        "\n",
        "* Tracker Over Time\n",
        "  * What is `margin / quanitity of products, percentual margin, unitary product price/cost` over time per `product / region`?\n",
        "  * Line plot, controlled by parameters for y axis, and color by. Hamburger menu with additional series of filter\n",
        "\n",
        "* Matrix Performance\n",
        "  * It shows how 2 different levels (`margin, revenue, cost, # order, # quantity,  customer, percentual margin, avg product price/cost`) are broken down by a given variable (`product, region`), in a given time range\n",
        "  * Scatter plot, controlled by parameter for x axis, y axis and color by.\n"
      ]
    },
    {
      "cell_type": "markdown",
      "metadata": {
        "id": "8gSMqKPCfwnz"
      },
      "source": [
        "Design:\n",
        "  * Each use case will have its own individual view"
      ]
    },
    {
      "cell_type": "markdown",
      "metadata": {
        "id": "9CShDMv0Y_HI"
      },
      "source": [
        "---"
      ]
    },
    {
      "cell_type": "markdown",
      "metadata": {
        "id": "Fjn_h_GRf2nw"
      },
      "source": [
        "### Strategic Business Concerns for meeting discussion"
      ]
    },
    {
      "cell_type": "markdown",
      "metadata": {
        "id": "uKaGfq33hkkx"
      },
      "source": [
        "* Pricing\n",
        "  * Under which circumstances could we adjust (increase/decrease) the price?\n",
        "  * Are the prices in-line with the market reality?\n",
        "\n",
        "\n",
        "* Product\n",
        "  * Can we do: up-selling, cross-selling?\n",
        "  * Which products captured our attention and why?\n",
        "  * What are the product portfolio risks?\n",
        "\n",
        "\n",
        "\n",
        "* Customer Behaviour\n",
        "  * What is the product recurrency profile?\n",
        "  * How do I find more people that buy recurrently?\n",
        "  * Where do I find more customers that have higher margin (regardless if it is recurrent)?\n",
        "\n",
        "\n",
        "* Place\n",
        "  * What is our coverage/presence and its performance?\n",
        "\n",
        "* Promotion\n",
        "  * How are our advertising  initiatives, either for online or in-store?\n"
      ]
    },
    {
      "cell_type": "markdown",
      "metadata": {
        "id": "IOWawXRcupNh"
      },
      "source": [
        "---"
      ]
    },
    {
      "cell_type": "markdown",
      "metadata": {
        "id": "CovohDGDk139"
      },
      "source": [
        "# Questions to be answered in the notebook\n"
      ]
    },
    {
      "cell_type": "markdown",
      "metadata": {
        "id": "qa81Zq4mDvEe"
      },
      "source": [
        "### City, State distribution"
      ]
    },
    {
      "cell_type": "markdown",
      "metadata": {
        "id": "hEFaol2Yk7Q5"
      },
      "source": [
        "* What is the City, State distribution and its amount of orders?\n",
        "  * There are 8 states, 10 cities\n",
        "  * CA and TX have customers from 2 cities, where remaining states have customers from 1 city\n",
        "  * CA and NY states have more orders\n"
      ]
    },
    {
      "cell_type": "code",
      "execution_count": null,
      "metadata": {
        "colab": {
          "base_uri": "https://localhost:8080/",
          "height": 363
        },
        "id": "1M42LjdToLOZ",
        "outputId": "dc15673c-ce30-47ee-b551-94e83965f737"
      },
      "outputs": [],
      "source": [
        "df_order_city = df.groupby('Order ID')['City'].unique().reset_index() # group data by order ID, get unique City\n",
        "df_order_city['City'] = df_order_city['City'].apply(lambda x: x[0]) # CityState comes in array, get first item. \n",
        "                                                                    # It is assumed that a given order is associated to a unique City \n",
        "df_order_city = (df_order_city\n",
        "                  .groupby('City')['Order ID']\n",
        "                  .count()\n",
        "                  .reset_index()\n",
        "                  .sort_values(by='City',ascending=True)) # count how many orders happened in a given City\n",
        "df_order_city['State'] = df_order_city['City'].apply(lambda x: x.split(\",\")[0]) # extract State, for viz purpose\n",
        "df_order_city"
      ]
    },
    {
      "cell_type": "code",
      "execution_count": null,
      "metadata": {
        "colab": {
          "base_uri": "https://localhost:8080/",
          "height": 361
        },
        "id": "2UKk1tOeo1qt",
        "outputId": "f9790bfe-9328-4d86-b301-112f186de510"
      },
      "outputs": [],
      "source": [
        "plt.figure(figsize=(17, 4))\n",
        "sns.barplot(data =df_order_city,x = \"City\", y = \"Order ID\", hue = \"State\", dodge = False)\n",
        "plt.xticks(rotation=90)\n",
        "plt.show()"
      ]
    },
    {
      "cell_type": "markdown",
      "metadata": {
        "id": "3lsnqMUVAMnM"
      },
      "source": [
        "---"
      ]
    },
    {
      "cell_type": "markdown",
      "metadata": {
        "id": "-ezOitwtDwbX"
      },
      "source": [
        "### Product Basket"
      ]
    },
    {
      "cell_type": "markdown",
      "metadata": {
        "id": "1mVtocj2w8k6"
      },
      "source": [
        "  * What is the percentage of orders that people buy 1 product only?\n",
        "  * Which products are sold together? \n",
        "  * How many items do people tpyically buy? "
      ]
    },
    {
      "cell_type": "code",
      "execution_count": null,
      "metadata": {
        "colab": {
          "base_uri": "https://localhost:8080/",
          "height": 332
        },
        "id": "V-HvDOJPw60Q",
        "outputId": "0cb0288f-42aa-49f7-f82e-85870ce82eba"
      },
      "outputs": [],
      "source": [
        "df.head(2)"
      ]
    },
    {
      "cell_type": "markdown",
      "metadata": {
        "id": "Yrkg-iOfE2la"
      },
      "source": [
        "* What is the percentage of orders that people buy 1 product only?"
      ]
    },
    {
      "cell_type": "markdown",
      "metadata": {
        "id": "yWqLMlcnl3yc"
      },
      "source": [
        "`df_order`\n",
        "* Group df by `order ID` for product basket analysis: each row is a order\n",
        "* Extract information like: quantity of products in a order, product, number of distinct products in a order, margin"
      ]
    },
    {
      "cell_type": "code",
      "execution_count": null,
      "metadata": {
        "colab": {
          "base_uri": "https://localhost:8080/",
          "height": 423
        },
        "id": "h2VGMlmHKdRj",
        "outputId": "012bb624-1c58-438f-9eaf-7c62bc267e8b"
      },
      "outputs": [],
      "source": [
        "def generate_product_basket_data(df, group_by ):\n",
        "\n",
        "  df_order = (df\n",
        "              .groupby(by=[group_by])\n",
        "              .agg(Quantity=('Quantity Ordered','sum'),\n",
        "                    Product=('Product','unique'),\n",
        "                    NumberOfProducts=('Product','nunique'),\n",
        "                    Margin = ('Margin', 'sum'),\n",
        "                    CustomerAddress = (\"Purchase Address\", 'unique') ) # assume each customer has 1 address\n",
        "              .reset_index()\n",
        "              .sort_values(by=['NumberOfProducts'],ascending=False)\n",
        "              )\n",
        "\n",
        "  for col in ['CustomerAddress', 'Product']:\n",
        "    df_order[col] = (df_order[col]\n",
        "                    .astype(str)\n",
        "                    .map(lambda x: x.lstrip('[').rstrip(']')) # removes brackets\n",
        "                    ) \n",
        "\n",
        "  df_order['CustomerAddress'] = df_order['CustomerAddress'].map(lambda x: x[1:-1]) # removes quotes\n",
        "  return df_order\n",
        "\n",
        "\n",
        "df_order = generate_product_basket_data(df=df, group_by='Order ID')\n",
        "df_order"
      ]
    },
    {
      "cell_type": "markdown",
      "metadata": {
        "id": "Ktx6Viu_F1k3"
      },
      "source": [
        "What is the percentage of orders that people buy 1 product only?\n",
        "* 86.8% of time people buy 1 product\n",
        "* 13.1% of time people buy more than 1 product\n",
        "\n",
        "How many orders have more than 1 product?\n",
        "* 23.3k\n",
        "\n",
        "How much margin do purchase with more than 1 product bring?\n",
        "* It brings 2.0M of margin, or 10.4% of all margin result"
      ]
    },
    {
      "cell_type": "code",
      "execution_count": null,
      "metadata": {
        "colab": {
          "base_uri": "https://localhost:8080/"
        },
        "id": "6hBtM-WDFHKd",
        "outputId": "2c020e55-3d04-42e4-8433-d6b5d63a1394"
      },
      "outputs": [],
      "source": [
        "print(len(df_order.query(\"Quantity == 1\")) / len(df_order)) # percentage of orders with 1 product\n",
        "print(len(df_order.query(\"Quantity != 1\")) / len(df_order)) # percentage of orders with more than 1 product\n",
        "print()\n",
        "\n",
        "print(len(df_order.query(\"Quantity != 1\")))  # orders with more than 1 item\n",
        "print()\n",
        "\n",
        "# margin for orders with more than 1 item\n",
        "print(round(df_order.query(\"Quantity != 1\")['Margin'].sum(), 0) )\n",
        "print(round(df_order.query(\"Quantity != 1\")['Margin'].sum() / df_order['Margin'].sum() * 100, 1), \"% of all margin result\" )"
      ]
    },
    {
      "cell_type": "markdown",
      "metadata": {
        "id": "1Nhun1HefliP"
      },
      "source": [
        "What is the Quantity distribution across the orders?\n",
        "* When considering order with more than 1 product, it is more common to have an order with 2 products"
      ]
    },
    {
      "cell_type": "code",
      "execution_count": null,
      "metadata": {
        "colab": {
          "base_uri": "https://localhost:8080/",
          "height": 331
        },
        "id": "1dCULOPifqHl",
        "outputId": "8e190ece-d669-4034-8bdc-11701a491dac"
      },
      "outputs": [],
      "source": [
        "qty_distribution = df_order['Quantity'].value_counts()\n",
        "pd.DataFrame(data= {\"Absolute\": qty_distribution , \"Relative Percentage\": round(qty_distribution / len(df_order) * 100 ,1)})"
      ]
    },
    {
      "cell_type": "markdown",
      "metadata": {
        "id": "gqiypvUknjxG"
      },
      "source": [
        "What are the most common product sets combinations?"
      ]
    },
    {
      "cell_type": "code",
      "execution_count": null,
      "metadata": {
        "id": "gb6wwxZWMkAk"
      },
      "outputs": [],
      "source": [
        "def common_product_set_combinations(df_order, top_n, x_size=6):\n",
        "\n",
        "  combinations_frequency = df_order['Product'].astype(str).value_counts()\n",
        "  print(f\"* There are {combinations_frequency.shape[0]} distinct combinations of product sets \\n\\n* These are the top {top_n}:\")\n",
        "  print(combinations_frequency.head(top_n),\"\\n\\n\")\n",
        "\n",
        "  plt.figure(figsize=(x_size, 3))\n",
        "  splot = sns.barplot(x=\"index\",y=\"Product\",data=combinations_frequency.head(top_n).reset_index())\n",
        "  for p in splot.patches:\n",
        "      splot.annotate(format(p.get_height(), '.0f'), (p.get_x() + p.get_width() / 2., p.get_height()), \n",
        "                    ha = 'center', va = 'center', xytext = (0, 9), textcoords = 'offset points')\n",
        "  plt.xticks(rotation=90)\n",
        "  plt.title(f\"Top {top_n} product combinations\")\n",
        "  splot.set(xlabel=None)\n",
        "  plt.show()"
      ]
    },
    {
      "cell_type": "markdown",
      "metadata": {
        "id": "hyFe3XRHnonz"
      },
      "source": [
        "Common product set combinations for orders with quantity > 1"
      ]
    },
    {
      "cell_type": "code",
      "execution_count": null,
      "metadata": {
        "colab": {
          "base_uri": "https://localhost:8080/",
          "height": 832
        },
        "id": "89F_0FB8Jper",
        "outputId": "d83dc874-0cf8-4b9e-c408-4e20eb12abb3"
      },
      "outputs": [],
      "source": [
        "common_product_set_combinations(df_order=df_order.query(\"Quantity > 1\"), top_n=15) "
      ]
    },
    {
      "cell_type": "markdown",
      "metadata": {
        "id": "Jz_FDOcQuBaD"
      },
      "source": [
        "Just for exploration and sanity check: query a given product set that are in a order"
      ]
    },
    {
      "cell_type": "code",
      "execution_count": null,
      "metadata": {
        "colab": {
          "base_uri": "https://localhost:8080/",
          "height": 460
        },
        "id": "_3HqSaBycyH9",
        "outputId": "34da2677-6ed1-48fd-c4a5-ccbd6a9669f6"
      },
      "outputs": [],
      "source": [
        "products = 'Lightning Charging Cable'\n",
        "df_order.query(\"Quantity != 1\")[df_order['Product'].str.contains(products)]"
      ]
    },
    {
      "cell_type": "markdown",
      "metadata": {
        "id": "_KHQh23luj29"
      },
      "source": [
        "For quick exploration and validation. Query a given order id from `df` and inspect the content"
      ]
    },
    {
      "cell_type": "code",
      "execution_count": null,
      "metadata": {
        "colab": {
          "base_uri": "https://localhost:8080/",
          "height": 214
        },
        "id": "kHozCtVJueYV",
        "outputId": "24c842d2-186d-4c47-acd1-289fe5171852"
      },
      "outputs": [],
      "source": [
        "order_id = 201904\n",
        "df.query(f\"`Order ID` == {order_id}\")"
      ]
    },
    {
      "cell_type": "markdown",
      "metadata": {
        "id": "5jL0QzleAJ_f"
      },
      "source": [
        "---"
      ]
    },
    {
      "cell_type": "markdown",
      "metadata": {
        "id": "UW9ptTL0_jg0"
      },
      "source": [
        "###  Customer Behaviour"
      ]
    },
    {
      "cell_type": "markdown",
      "metadata": {
        "id": "c7r2Au6qw9iR"
      },
      "source": [
        "Data where each row is an order"
      ]
    },
    {
      "cell_type": "code",
      "execution_count": null,
      "metadata": {
        "colab": {
          "base_uri": "https://localhost:8080/",
          "height": 112
        },
        "id": "ZiB_J2wMbfE3",
        "outputId": "3d2757c7-d897-4ed9-87e7-72fb8e760801"
      },
      "outputs": [],
      "source": [
        "df_order.head(2)"
      ]
    },
    {
      "cell_type": "markdown",
      "metadata": {
        "id": "BqDdx2QVLvWf"
      },
      "source": [
        "`df_customer`\n",
        "* Group `df_order` by `customer address` to analyze customer order recurrency: each row is a customer \n",
        "* Extract information like: recurrency times, quantity of products bought, unique products, number of distinct products, customer margin"
      ]
    },
    {
      "cell_type": "code",
      "execution_count": null,
      "metadata": {
        "colab": {
          "base_uri": "https://localhost:8080/",
          "height": 355
        },
        "id": "9789A2cNHUgn",
        "outputId": "3008adc7-baa4-420c-e6aa-40707dec27a1"
      },
      "outputs": [],
      "source": [
        "df_customer = (df_order\n",
        "             .groupby(by=['CustomerAddress'])\n",
        "             .agg(RecurrencyTimes=('Order ID','count'),\n",
        "                  QuantityOfProducts = ('Quantity', 'sum'),\n",
        "                  Product=('Product','unique'),\n",
        "                  NumberOfProducts=('NumberOfProducts','sum'),\n",
        "                  CustomerMargin = ('Margin', 'sum'),\n",
        "                  ) \n",
        "             .sort_values(by=['RecurrencyTimes'], ascending=False)\n",
        "             .reset_index()\n",
        "             )\n",
        "\n",
        "df_customer['State'] = df_customer['CustomerAddress'].apply(lambda x: x.split(\",\")[-1][1:3])\n",
        "df_customer['City'] = df_customer['CustomerAddress'].apply(lambda x: x.split(\",\")[-2][1:])\n",
        "df_customer['City'] = df_customer['State'] + \" , \" + df_customer['City']\n",
        "\n",
        "print(df_customer.shape)\n",
        "df_customer.head(5)"
      ]
    },
    {
      "cell_type": "markdown",
      "metadata": {
        "id": "M7CT2b-nL9gM"
      },
      "source": [
        "How many customers re-purchased? What is the percentage of customer base?\n",
        "* 30.7k customers (21.9% of customer base)"
      ]
    },
    {
      "cell_type": "code",
      "execution_count": null,
      "metadata": {
        "colab": {
          "base_uri": "https://localhost:8080/"
        },
        "id": "5TViMrO9Jsc-",
        "outputId": "05e3fc9b-e167-4dcb-cbdc-cd04da35070a"
      },
      "outputs": [],
      "source": [
        "print(f\"There are {len(df_customer.query('RecurrencyTimes != 1'))} customers that re-purchased\")\n",
        "print(f\"Or, {round(len(df_customer.query('RecurrencyTimes != 1'))  / len(df_customer) * 100 , 1)}% of customer base\")"
      ]
    },
    {
      "cell_type": "markdown",
      "metadata": {
        "id": "xdy-h62QMM_6"
      },
      "source": [
        "What is the recurrency times distribution?\n",
        "* 78% of customers buy once\n",
        "* 17% re-buy twice\n",
        "* 3.4% re-buy 3 times."
      ]
    },
    {
      "cell_type": "code",
      "execution_count": null,
      "metadata": {
        "colab": {
          "base_uri": "https://localhost:8080/",
          "height": 269
        },
        "id": "Qfod8PaYJd3J",
        "outputId": "6de3e278-da1d-4760-b32f-f3f13977d333"
      },
      "outputs": [],
      "source": [
        "recurrency_distr = df_customer['RecurrencyTimes'].value_counts()\n",
        "pd.DataFrame(data= {\"Absolute\": recurrency_distr , \"Relative Percentage\": round(recurrency_distr / len(df_customer) * 100 ,1)})"
      ]
    },
    {
      "cell_type": "markdown",
      "metadata": {
        "id": "Y-XJ8Qc1KAR4"
      },
      "source": [
        "What is the list with recurrent customers?"
      ]
    },
    {
      "cell_type": "code",
      "execution_count": null,
      "metadata": {
        "colab": {
          "base_uri": "https://localhost:8080/"
        },
        "id": "mWQKh5RQIFKj",
        "outputId": "faf34ca3-db42-48c9-b317-993e64963bca"
      },
      "outputs": [],
      "source": [
        "recurrency_times = [2,3,4,5,6,7]\n",
        "customer_address_list = df_customer.query(f\"RecurrencyTimes in {recurrency_times}\")['CustomerAddress'].to_list()\n",
        "df_recurrent_customers = df.query(f\"`Purchase Address` in {customer_address_list}\")\n",
        "\n",
        "print(f\"There are {len(customer_address_list)} customers that bought {recurrency_times} times. These are the first 5 customers:\\n\")\n",
        "customer_address_list[:5]"
      ]
    },
    {
      "cell_type": "code",
      "execution_count": null,
      "metadata": {
        "id": "ByMuWW0gm3oY"
      },
      "outputs": [],
      "source": [
        "# df_recurrent_customers.head(2)"
      ]
    },
    {
      "cell_type": "markdown",
      "metadata": {
        "id": "QYwgH3JeAIyh"
      },
      "source": [
        "---"
      ]
    },
    {
      "cell_type": "markdown",
      "metadata": {
        "id": "VDPDzsgKAEmy"
      },
      "source": [
        "#### What is the product recurrency profile?"
      ]
    },
    {
      "cell_type": "markdown",
      "metadata": {
        "id": "_Rv1vGqfxef4"
      },
      "source": [
        "For these customers, which products they have bought? Regardless if it was in the same order\n",
        "* when using `generate_product_basket_data(`), we group by `Purchase ID`, since we want the products for recurrent customers"
      ]
    },
    {
      "cell_type": "code",
      "execution_count": null,
      "metadata": {
        "colab": {
          "base_uri": "https://localhost:8080/",
          "height": 442
        },
        "id": "Jf7l8ILXxroY",
        "outputId": "3950c46a-8734-43c5-d3bf-61676ace2e1d"
      },
      "outputs": [],
      "source": [
        "df_products_recurr_cust = generate_product_basket_data(\n",
        "                            df = df_recurrent_customers, # only recurrent customers\n",
        "                            group_by = 'Purchase Address' )\n",
        "\n",
        "print(df_products_recurr_cust.shape)\n",
        "df_products_recurr_cust"
      ]
    },
    {
      "cell_type": "markdown",
      "metadata": {
        "id": "3zi0RAq_6piQ"
      },
      "source": [
        "For these recurrent customers, what is the product basket analysis?\n",
        "* Batteries + Charging Cable  \n",
        "* Charging Cable\n",
        "* Wired/Apple Headphones + Charging Cable\n",
        "* Batteries\n",
        "* Apple/Bose/wired Headphones + Batteries\n",
        "* Wired Headphones\n"
      ]
    },
    {
      "cell_type": "code",
      "execution_count": null,
      "metadata": {
        "colab": {
          "base_uri": "https://localhost:8080/",
          "height": 1000
        },
        "id": "YJgKj6h5kIpO",
        "outputId": "b1454e3b-30d3-4a90-b8cf-6a63717b3c79"
      },
      "outputs": [],
      "source": [
        "common_product_set_combinations(df_order=df_products_recurr_cust, top_n=40, x_size=18)"
      ]
    },
    {
      "cell_type": "markdown",
      "metadata": {
        "id": "Pa0K-_Wwzikw"
      },
      "source": [
        "Just for exploration/sanity check: query recurrent customers that bought a given product set\n"
      ]
    },
    {
      "cell_type": "code",
      "execution_count": null,
      "metadata": {
        "colab": {
          "base_uri": "https://localhost:8080/",
          "height": 423
        },
        "id": "FvP_ZntvzqRP",
        "outputId": "6e48776e-85b8-4aff-c8e6-da3aa98bf9e5"
      },
      "outputs": [],
      "source": [
        "products = \"Apple Airpods Headphones\" # \"'Apple Airpods Headphones' 'Wired Headphones'\"\n",
        "df_products_recurr_cust[df_products_recurr_cust['Product'].str.contains(products)]"
      ]
    },
    {
      "cell_type": "markdown",
      "metadata": {
        "id": "quRhnSJIzis_"
      },
      "source": [
        "For quick exploration/validation. Query customer orders records from `df` based on customer address (pick from address from table above)"
      ]
    },
    {
      "cell_type": "code",
      "execution_count": null,
      "metadata": {
        "colab": {
          "base_uri": "https://localhost:8080/",
          "height": 352
        },
        "id": "O_tG1Gi7zrDW",
        "outputId": "67175834-aa5f-4061-d5b4-4ccd5fa34243"
      },
      "outputs": [],
      "source": [
        "customer_id = '1 12th St, San Francisco, CA 94016'\n",
        "\n",
        "customer_oders_date = df.query(f\"`Purchase Address` == '{customer_id}' \")['Order Date'].unique()\n",
        "print(f\"{len(customer_oders_date)} orders made on:\\n {customer_oders_date}\\n\" )\n",
        "\n",
        "df.query(f\"`Purchase Address` == '{customer_id}' \")"
      ]
    },
    {
      "cell_type": "markdown",
      "metadata": {
        "id": "95gWCSCzAQSa"
      },
      "source": [
        "---"
      ]
    },
    {
      "cell_type": "markdown",
      "metadata": {
        "id": "3Pd4zByS_0Qp"
      },
      "source": [
        "#### What is the profile from recurrent customers?"
      ]
    },
    {
      "cell_type": "code",
      "execution_count": null,
      "metadata": {
        "id": "-qYNpx5eHzM_"
      },
      "outputs": [],
      "source": [
        "# df.head(2)"
      ]
    },
    {
      "cell_type": "markdown",
      "metadata": {
        "id": "cYeEEGMkjSnj"
      },
      "source": [
        "What is absolute and relative frequencies for State and City on recurrent customers data?\n",
        "* Customers from **San Francisco, Los Angles, New York and Boston** tend to be more recurrent\n",
        "* Is this proportion different compared to the data with all customers?"
      ]
    },
    {
      "cell_type": "code",
      "execution_count": null,
      "metadata": {
        "colab": {
          "base_uri": "https://localhost:8080/"
        },
        "id": "MkL3RH5mSVxb",
        "outputId": "208c8169-e5ff-4fd1-9264-58402f99f12c"
      },
      "outputs": [],
      "source": [
        "for col in ['State', 'City']:\n",
        "  print(f\"Absolute and relative frequencies for {col}\")\n",
        "  relative_proportion = pd.DataFrame(data= {\"Absolute\": df_recurrent_customers[col].value_counts(),\n",
        "                            \"Relative\":  df_recurrent_customers[col].value_counts(normalize=True)}\n",
        "                    )\n",
        "  print(relative_proportion)\n",
        "  print(\"\\n\\n\")"
      ]
    },
    {
      "cell_type": "markdown",
      "metadata": {
        "id": "aeN360vnMZhX"
      },
      "source": [
        "Let's compare: What is the State and City distribution for all customers and for recurrent customers?\n",
        "* There is indication that customers from San Francisco tend to be \"specially\" more recurrent, since the relative frequency for San Francisco on \"recurrent customers\" data is greater than \"all customers\" data\n",
        "* Relative proportion levels from customers from San Francisco, Los Angles, New York and Boston, at \"all customers\" and \"recurrent customers\" are more paired, than the other options\n",
        "\n",
        "For roadmap\n",
        "* a chi square statistical test could have been applied to compute if distributions are different"
      ]
    },
    {
      "cell_type": "code",
      "execution_count": null,
      "metadata": {
        "colab": {
          "base_uri": "https://localhost:8080/",
          "height": 1000
        },
        "id": "v3Ax0_AF0TQ2",
        "outputId": "49935692-ab56-40a3-d76f-954d69708982"
      },
      "outputs": [],
      "source": [
        "def plot_distributions_for_same_variables_from_2_datasets(df_a,df_a_name, df_b, df_b_name, variables, title):\n",
        "\n",
        "  for col in variables:\n",
        "    \n",
        "    print(f\"=== {col} ===\")\n",
        "    # I know it is difficult to difficult to compare proportions on datasets \n",
        "    # with different size, but the distribution is as it follows\n",
        "    df1 = pd.DataFrame(data={\"Type\": df_a_name, \"Data\":df_a[col] }) \n",
        "    df1 = df1.append( pd.DataFrame(data={\"Type\": df_b_name, \"Data\":df_b[col] })  )\n",
        "    plt.figure(figsize=(8, 4))\n",
        "    sns.countplot(x='Type',hue='Data',data=df1)\n",
        "    plt.title(f\"{col} {title}\")\n",
        "    plt.show()\n",
        "    print(\"\\n\\n\")\n",
        "\n",
        "    print(\"Relative Proportion\")\n",
        "    relative_proportion = pd.DataFrame(data= {df_b_name: df_b[col].value_counts(normalize=True),\n",
        "                            df_a_name: df_a[col].value_counts(normalize=True)}\n",
        "                    )\n",
        "    relative_proportion['Difference'] = round(relative_proportion[df_b_name] - relative_proportion[df_a_name] ,3)\n",
        "    print(relative_proportion)\n",
        "    print(\"\\n\\n\")\n",
        "\n",
        "\n",
        "plot_distributions_for_same_variables_from_2_datasets(df_a= df, df_a_name='AllCustomers',\n",
        "                                                      df_b=df_recurrent_customers, df_b_name = 'RecurrentCustomers',\n",
        "                                                      variables= ['State', 'City'],\n",
        "                                                      title= 'distribution on All Customers and Recurrent Customers')"
      ]
    },
    {
      "cell_type": "markdown",
      "metadata": {
        "id": "gx7WRaC6AS5L"
      },
      "source": [
        "---"
      ]
    },
    {
      "cell_type": "markdown",
      "metadata": {
        "id": "-95jUE08_4w1"
      },
      "source": [
        "#### What is the profile from customers with high margin?"
      ]
    },
    {
      "cell_type": "code",
      "execution_count": null,
      "metadata": {
        "colab": {
          "base_uri": "https://localhost:8080/",
          "height": 209
        },
        "id": "3SPMNtT_0TUT",
        "outputId": "11f409c0-d9e1-408e-cc8a-700b4e3903cf"
      },
      "outputs": [],
      "source": [
        "print(df_customer.shape) # all base\n",
        "df_customer.head(2)"
      ]
    },
    {
      "cell_type": "markdown",
      "metadata": {
        "id": "BNdS3OyRa7TT"
      },
      "source": [
        "What is the margin distribution across all customers\n",
        "* **assume customers with top margin are in top 10% percentile, meaning it should be greater than 400**\n",
        "* Roadmap: analyze in more detail customers at top 1% percentile"
      ]
    },
    {
      "cell_type": "code",
      "execution_count": null,
      "metadata": {
        "colab": {
          "base_uri": "https://localhost:8080/"
        },
        "id": "j6MW-LYRWn7t",
        "outputId": "aee8a907-9e66-493e-db05-19d31420ad35"
      },
      "outputs": [],
      "source": [
        "df_customer['CustomerMargin'].quantile([0,0.25,0.5,0.75,0.8,0.85,0.87,0.9,0.95,0.99,1])\n",
        "# Q1 - Q3: 8.15 to 165\n",
        "# 80% of customer margin is up to 200\n",
        "# 90% of customer margin is up to 400"
      ]
    },
    {
      "cell_type": "code",
      "execution_count": null,
      "metadata": {
        "colab": {
          "base_uri": "https://localhost:8080/",
          "height": 265
        },
        "id": "mUmtXAYHkXtj",
        "outputId": "5d993177-a9f4-43c5-f989-b9aea299e322"
      },
      "outputs": [],
      "source": [
        "df_customer.query('CustomerMargin < 700')['CustomerMargin'].hist()\n",
        "plt.show()"
      ]
    },
    {
      "cell_type": "markdown",
      "metadata": {
        "id": "oLG5yASxlO6u"
      },
      "source": [
        "What is the absolute and relative frequencies for State and City on data for customers with top margin (margin > 400)\n",
        "* Customers from **San Francisco, Los Angeles, New York and Boston** tend to have more margin\n",
        "* Is this proportion different compared to the data with all customers?"
      ]
    },
    {
      "cell_type": "code",
      "execution_count": null,
      "metadata": {
        "colab": {
          "base_uri": "https://localhost:8080/"
        },
        "id": "RW4dJou2l0Em",
        "outputId": "a1faf2e2-9fdd-4b85-bf4f-582b100756cb"
      },
      "outputs": [],
      "source": [
        "for col in ['State', 'City']:\n",
        "  print(f\"Absolute and relative frequencies for {col}\")\n",
        "  relative_proportion = pd.DataFrame(data= {\"Absolute\": df_customer.query(\"CustomerMargin > 400\")[col].value_counts(),\n",
        "                            \"Relative\":  df_customer.query(\"CustomerMargin > 400\")[col].value_counts(normalize=True)}\n",
        "                    )\n",
        "  print(relative_proportion)\n",
        "  print(\"\\n\\n\")"
      ]
    },
    {
      "cell_type": "markdown",
      "metadata": {
        "id": "4111l94tl0L_"
      },
      "source": [
        "Let's compare: What is the State and City distribution for all customers and for top margin customers?\n",
        "* There is indication that customers from San Francisco tend to be \"specially\" with more margin, since the relative frequency for San Francisco on \"top margin customers\" data is greater than \"all customers\" data\n",
        "* Relative proportion levels from customers from San Francisco, Los Angeles, New York and Boston, at \"all customers\" and \"top margin customers\" are more paired, than the other options\n",
        "\n",
        "For roadmap\n",
        "* a chi square statistical test could have been applied to compute if distributions are different"
      ]
    },
    {
      "cell_type": "code",
      "execution_count": null,
      "metadata": {
        "colab": {
          "base_uri": "https://localhost:8080/",
          "height": 1000
        },
        "id": "of34u7sJY1Tv",
        "outputId": "76f9d813-0945-46a3-a249-7e2eb9e49e0c"
      },
      "outputs": [],
      "source": [
        "plot_distributions_for_same_variables_from_2_datasets(df_a= df_customer, df_a_name='AllCustomers',\n",
        "                                                      df_b=df_customer.query(\"CustomerMargin > 400\"), df_b_name = 'CustomersTopMargin',\n",
        "                                                      variables= ['State', 'City'], title= 'distribution on All customers and with top margin')\n",
        "\n"
      ]
    },
    {
      "cell_type": "markdown",
      "metadata": {
        "id": "05a22WJyw9wO"
      },
      "source": [
        "---"
      ]
    }
  ],
  "metadata": {
    "colab": {
      "name": "EDA.ipynb",
      "provenance": []
    },
    "kernelspec": {
      "display_name": "Python 3.8.10 64-bit",
      "language": "python",
      "name": "python3"
    },
    "language_info": {
      "codemirror_mode": {
        "name": "ipython",
        "version": 3
      },
      "file_extension": ".py",
      "mimetype": "text/x-python",
      "name": "python",
      "nbconvert_exporter": "python",
      "pygments_lexer": "ipython3",
      "version": "3.8.10 (default, Jun 22 2022, 20:18:18) \n[GCC 9.4.0]"
    },
    "orig_nbformat": 2,
    "vscode": {
      "interpreter": {
        "hash": "916dbcbb3f70747c44a77c7bcd40155683ae19c65e1c03b4aa3499c5328201f1"
      }
    }
  },
  "nbformat": 4,
  "nbformat_minor": 0
}
