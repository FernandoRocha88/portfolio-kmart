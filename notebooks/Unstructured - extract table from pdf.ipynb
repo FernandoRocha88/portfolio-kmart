{
  "cells": [
    {
      "cell_type": "markdown",
      "metadata": {
        "id": "BP8bdWSbBRqw"
      },
      "source": [
        "## Unstructured Research\n",
        "\n"
      ]
    },
    {
      "cell_type": "code",
      "source": [
        "# installation - how it comes at package documentation\n",
        "# !apt-get -qq install poppler-utils tesseract-ocr\n",
        "# %pip install -q --user --upgrade pillow\n",
        "# %pip install -q unstructured[\"all-docs\"]==0.12.5\n",
        "# %pip install -q --upgrade unstructured"
      ],
      "metadata": {
        "id": "vhBFvKy8ag2D"
      },
      "execution_count": null,
      "outputs": []
    },
    {
      "cell_type": "code",
      "source": [],
      "metadata": {
        "id": "t27qY2MwZoJI"
      },
      "execution_count": null,
      "outputs": []
    },
    {
      "cell_type": "code",
      "execution_count": null,
      "metadata": {
        "id": "jZp37lfueaeZ"
      },
      "outputs": [],
      "source": [
        "# !apt-get -qq install poppler-utils tesseract-ocr\n",
        "# %pip install -q --user --upgrade pillow\n",
        "%pip install -q unstructured[pdf,image,local-inference]==0.13.3\n",
        "%pip install libmagic==1.0\n",
        "%pip install poppler-utils==0.1.0\n",
        "# %pip install tessearct-ocr\n",
        "%pip install pandoc==2.3\n",
        "# %pip install -q --upgrade unstructured\n"
      ]
    },
    {
      "cell_type": "code",
      "source": [
        "!apt-get -qq install poppler-utils tesseract-ocr"
      ],
      "metadata": {
        "id": "JRTOiLY1h7Sn"
      },
      "execution_count": null,
      "outputs": []
    },
    {
      "cell_type": "code",
      "source": [
        "# !pip show tesseract-ocr"
      ],
      "metadata": {
        "id": "P8zK1njPYpAH"
      },
      "execution_count": null,
      "outputs": []
    },
    {
      "cell_type": "markdown",
      "metadata": {
        "id": "Aq7KaO6NtYXY"
      },
      "source": [
        "See our [example docs page](https://github.com/Unstructured-IO/unstructured/tree/main/example-docs) to find example docs used in this tutorial. You can also upload your own files by clicking on “Choose Files” on the left panel then select and upload the file to Colab."
      ]
    },
    {
      "cell_type": "code",
      "execution_count": null,
      "metadata": {
        "id": "F2JBqRZgtq2Z"
      },
      "outputs": [],
      "source": [
        "!mkdir -p example-docs\n",
        "# Install example-10k.html and layout-parser-paper.pdf\n",
        "!wget  https://raw.githubusercontent.com/Unstructured-IO/unstructured/main/example-docs/example-10k.html -P example-docs\n",
        "!wget  https://raw.githubusercontent.com/Unstructured-IO/unstructured/main/example-docs/layout-parser-paper-fast.pdf -P example-docs\n",
        "\n",
        "# Install NLTK Data\n",
        "import nltk\n",
        "nltk.download('punkt')\n",
        "nltk.download('averaged_perceptron_tagger')"
      ]
    },
    {
      "cell_type": "code",
      "execution_count": 30,
      "metadata": {
        "id": "E_WN7p3JGcLJ"
      },
      "outputs": [],
      "source": [
        "from unstructured.partition.pdf import partition_pdf\n",
        "\n",
        "filename = \"example-docs/pdf example.pdf\"\n",
        "\n",
        "elements_fast = partition_pdf(filename, strategy='fast')\n",
        "elements = partition_pdf(filename,\n",
        "                         strategy='hi_res', # \"auto\", \"hi_res\", \"ocr_only\", and \"fast\".\n",
        "                         infer_table_structure=True,\n",
        "                         model_name = \"yolox\",\n",
        "                        #  include_page_breaks=True,\n",
        "                        #  extract_element_types=[\"Table\"],\n",
        "                        #  extract_images_in_pdf=True,\n",
        "                        #  extract_image_block_output_dir=\"example-docs\",\n",
        "                        #  languages=[\"eng\", \"pt\"]\n",
        "                         )"
      ]
    },
    {
      "cell_type": "markdown",
      "metadata": {
        "id": "5Iq8hR-x9Ti1"
      },
      "source": [
        "Let's display the type and text of the elements in the document:"
      ]
    },
    {
      "cell_type": "code",
      "execution_count": 77,
      "metadata": {
        "id": "prVGy4uc7YpB",
        "colab": {
          "base_uri": "https://localhost:8080/",
          "height": 677
        },
        "outputId": "d6cfeaab-2bdf-4dc6-bed9-c9a6956e901a"
      },
      "outputs": [
        {
          "output_type": "display_data",
          "data": {
            "text/plain": [
              "('Header', 'ACME ltda Company solutions technology')"
            ]
          },
          "metadata": {}
        },
        {
          "output_type": "display_data",
          "data": {
            "text/plain": [
              "('Image', 'ACME')"
            ]
          },
          "metadata": {}
        },
        {
          "output_type": "display_data",
          "data": {
            "text/plain": [
              "('NarrativeText',\n",
              " \"The FIFA World Cup, often simply called the World Cup, is an international association football competition between the senior men's national teams of the members of the Fédération Internationale de Football Association (FIFA), the sport's global governing body.\")"
            ]
          },
          "metadata": {}
        },
        {
          "output_type": "display_data",
          "data": {
            "text/plain": [
              "('NarrativeText', 'Table in a human readable format')"
            ]
          },
          "metadata": {}
        },
        {
          "output_type": "display_data",
          "data": {
            "text/plain": [
              "('Table',\n",
              " 'Date Account manager Registration number 24 April 2024 Fernando FGT#344')"
            ]
          },
          "metadata": {}
        },
        {
          "output_type": "display_data",
          "data": {
            "text/plain": [
              "('NarrativeText', 'Table in a not so much human readable format')"
            ]
          },
          "metadata": {}
        },
        {
          "output_type": "display_data",
          "data": {
            "text/plain": [
              "('Table', 'Product Property Person Joe Doe Date 25 April 2024')"
            ]
          },
          "metadata": {}
        },
        {
          "output_type": "display_data",
          "data": {
            "text/plain": [
              "('NarrativeText', 'Table in a tabular format')"
            ]
          },
          "metadata": {}
        },
        {
          "output_type": "display_data",
          "data": {
            "text/plain": [
              "('Table', 'Id 1 2 Product A B Metric 11 87')"
            ]
          },
          "metadata": {}
        },
        {
          "output_type": "display_data",
          "data": {
            "text/plain": [
              "('NarrativeText', 'My company ABCD#3487RE')"
            ]
          },
          "metadata": {}
        },
        {
          "output_type": "display_data",
          "data": {
            "text/plain": [
              "('UncategorizedText', '1')"
            ]
          },
          "metadata": {}
        },
        {
          "output_type": "display_data",
          "data": {
            "text/plain": [
              "('Header', 'ACME ltda Company solutions technology')"
            ]
          },
          "metadata": {}
        },
        {
          "output_type": "display_data",
          "data": {
            "text/plain": [
              "('NarrativeText', 'This is to clean non ascii characters')"
            ]
          },
          "metadata": {}
        },
        {
          "output_type": "display_data",
          "data": {
            "text/plain": [
              "('NarrativeText', '\\\\x88This text contains®non-ascii characters!●')"
            ]
          },
          "metadata": {}
        },
        {
          "output_type": "display_data",
          "data": {
            "text/plain": [
              "('NarrativeText', 'This is ordered bullets bullets')"
            ]
          },
          "metadata": {}
        },
        {
          "output_type": "display_data",
          "data": {
            "text/plain": [
              "('NarrativeText',\n",
              " '1 This is a very important point 1.1 That is another point 1.2 Followed by a super important 2 That is other thing')"
            ]
          },
          "metadata": {}
        },
        {
          "output_type": "display_data",
          "data": {
            "text/plain": [
              "('NarrativeText', 'This is bullets')"
            ]
          },
          "metadata": {}
        },
        {
          "output_type": "display_data",
          "data": {
            "text/plain": [
              "('NarrativeText',\n",
              " 'This is a very important point o That is another point o Followed by a super important')"
            ]
          },
          "metadata": {}
        },
        {
          "output_type": "display_data",
          "data": {
            "text/plain": [
              "('ListItem', 'That is other thing')"
            ]
          },
          "metadata": {}
        },
        {
          "output_type": "display_data",
          "data": {
            "text/plain": [
              "('NarrativeText',\n",
              " \"A settlement was established in the area by the Gaels during or before the 7th century,[13] followed by the Vikings. As the Kingdom of Dublin grew, it became Ireland's principal settlement by the 12th century Anglo-Norman invasion of Ireland.[13] The city expanded rapidly from the 17th century and was briefly the second largest in the British Empire and sixth largest in Western Europe after the Acts\")"
            ]
          },
          "metadata": {}
        },
        {
          "output_type": "display_data",
          "data": {
            "text/plain": [
              "('NarrativeText', 'My company ABCD#3487RE')"
            ]
          },
          "metadata": {}
        },
        {
          "output_type": "display_data",
          "data": {
            "text/plain": [
              "('UncategorizedText', '2')"
            ]
          },
          "metadata": {}
        },
        {
          "output_type": "display_data",
          "data": {
            "text/plain": [
              "('Header', 'ACME ltda Company solutions technology')"
            ]
          },
          "metadata": {}
        },
        {
          "output_type": "display_data",
          "data": {
            "text/plain": [
              "('NarrativeText',\n",
              " 'of Union in 1800.[14] Following independence in 1922, Dublin became the capital of the Irish Free State, renamed Ireland in 1937. As of 2018, the city was listed by the Globalization and World Cities Research Network (GaWC) as a global city, with a ranking of \"Alpha minus\", which placed it among the top thirty cities in the world.')"
            ]
          },
          "metadata": {}
        },
        {
          "output_type": "display_data",
          "data": {
            "text/plain": [
              "('Image', '== Microsoft')"
            ]
          },
          "metadata": {}
        },
        {
          "output_type": "display_data",
          "data": {
            "text/plain": [
              "('NarrativeText', 'My company ABCD#3487RE')"
            ]
          },
          "metadata": {}
        },
        {
          "output_type": "display_data",
          "data": {
            "text/plain": [
              "('UncategorizedText', '3')"
            ]
          },
          "metadata": {}
        }
      ],
      "source": [
        "display(*[(element.category, element.text) for element in elements])"
      ]
    },
    {
      "cell_type": "code",
      "source": [
        "# it recognizes footer pattern as Footer and UncategorizedText\n",
        "display(*[(element.category, element.text) for element in elements_fast])"
      ],
      "metadata": {
        "colab": {
          "base_uri": "https://localhost:8080/",
          "height": 711
        },
        "id": "Lhal3rSaVc7Z",
        "outputId": "e330f804-ac50-48f7-95fb-f6fdb05a6aeb"
      },
      "execution_count": 78,
      "outputs": [
        {
          "output_type": "display_data",
          "data": {
            "text/plain": [
              "('Header', 'ACME ltda Company solutions technology')"
            ]
          },
          "metadata": {}
        },
        {
          "output_type": "display_data",
          "data": {
            "text/plain": [
              "('NarrativeText',\n",
              " \"The FIFA World Cup, often simply called the World Cup, is an international association football competition between the senior men's national teams of the members of the Fédération Internationale de Football Association (FIFA), the sport's global governing body.\")"
            ]
          },
          "metadata": {}
        },
        {
          "output_type": "display_data",
          "data": {
            "text/plain": [
              "('Title', 'Table in a human readable format')"
            ]
          },
          "metadata": {}
        },
        {
          "output_type": "display_data",
          "data": {
            "text/plain": [
              "('Title', 'Date Account manager Registration number')"
            ]
          },
          "metadata": {}
        },
        {
          "output_type": "display_data",
          "data": {
            "text/plain": [
              "('Title', '24 April 2024 Fernando FGT#344')"
            ]
          },
          "metadata": {}
        },
        {
          "output_type": "display_data",
          "data": {
            "text/plain": [
              "('Title', 'Table in a not so much human readable format')"
            ]
          },
          "metadata": {}
        },
        {
          "output_type": "display_data",
          "data": {
            "text/plain": [
              "('Title', 'Product Property')"
            ]
          },
          "metadata": {}
        },
        {
          "output_type": "display_data",
          "data": {
            "text/plain": [
              "('Title', 'Person Joe Doe')"
            ]
          },
          "metadata": {}
        },
        {
          "output_type": "display_data",
          "data": {
            "text/plain": [
              "('Title', 'Date 25 April 2024')"
            ]
          },
          "metadata": {}
        },
        {
          "output_type": "display_data",
          "data": {
            "text/plain": [
              "('Title', 'Table in a tabular format')"
            ]
          },
          "metadata": {}
        },
        {
          "output_type": "display_data",
          "data": {
            "text/plain": [
              "('Title', 'Id 1 2')"
            ]
          },
          "metadata": {}
        },
        {
          "output_type": "display_data",
          "data": {
            "text/plain": [
              "('Title', 'Product A B')"
            ]
          },
          "metadata": {}
        },
        {
          "output_type": "display_data",
          "data": {
            "text/plain": [
              "('Title', 'Metric 11 87')"
            ]
          },
          "metadata": {}
        },
        {
          "output_type": "display_data",
          "data": {
            "text/plain": [
              "('Footer', 'My company ABCD#3487RE')"
            ]
          },
          "metadata": {}
        },
        {
          "output_type": "display_data",
          "data": {
            "text/plain": [
              "('UncategorizedText', '1')"
            ]
          },
          "metadata": {}
        },
        {
          "output_type": "display_data",
          "data": {
            "text/plain": [
              "('Header', 'ACME ltda Company solutions technology')"
            ]
          },
          "metadata": {}
        },
        {
          "output_type": "display_data",
          "data": {
            "text/plain": [
              "('NarrativeText', 'This is to clean non ascii characters')"
            ]
          },
          "metadata": {}
        },
        {
          "output_type": "display_data",
          "data": {
            "text/plain": [
              "('Title', '\\\\x88This text contains®non-ascii characters!●')"
            ]
          },
          "metadata": {}
        },
        {
          "output_type": "display_data",
          "data": {
            "text/plain": [
              "('NarrativeText', 'This is ordered bullets bullets')"
            ]
          },
          "metadata": {}
        },
        {
          "output_type": "display_data",
          "data": {
            "text/plain": [
              "('NarrativeText',\n",
              " '1 This is a very important point 1.1 That is another point 1.2 Followed by a super important 2 That is other thing')"
            ]
          },
          "metadata": {}
        },
        {
          "output_type": "display_data",
          "data": {
            "text/plain": [
              "('NarrativeText', 'This is bullets')"
            ]
          },
          "metadata": {}
        },
        {
          "output_type": "display_data",
          "data": {
            "text/plain": [
              "('ListItem',\n",
              " 'This is a very important point o That is another point o Followed by a super important')"
            ]
          },
          "metadata": {}
        },
        {
          "output_type": "display_data",
          "data": {
            "text/plain": [
              "('ListItem', 'That is other thing')"
            ]
          },
          "metadata": {}
        },
        {
          "output_type": "display_data",
          "data": {
            "text/plain": [
              "('NarrativeText',\n",
              " \"A settlement was established in the area by the Gaels during or before the 7th century,[13] followed by the Vikings. As the Kingdom of Dublin grew, it became Ireland's principal settlement by the 12th century Anglo-Norman invasion of Ireland.[13] The city expanded rapidly from the 17th century and was briefly the second largest in the British Empire and sixth largest in Western Europe after the Acts\")"
            ]
          },
          "metadata": {}
        },
        {
          "output_type": "display_data",
          "data": {
            "text/plain": [
              "('Footer', 'My company ABCD#3487RE')"
            ]
          },
          "metadata": {}
        },
        {
          "output_type": "display_data",
          "data": {
            "text/plain": [
              "('UncategorizedText', '2')"
            ]
          },
          "metadata": {}
        },
        {
          "output_type": "display_data",
          "data": {
            "text/plain": [
              "('Header', 'ACME ltda Company solutions technology')"
            ]
          },
          "metadata": {}
        },
        {
          "output_type": "display_data",
          "data": {
            "text/plain": [
              "('NarrativeText',\n",
              " 'of Union in 1800.[14] Following independence in 1922, Dublin became the capital of the Irish Free State, renamed Ireland in 1937. As of 2018, the city was listed by the Globalization and World Cities Research Network (GaWC) as a global city, with a ranking of \"Alpha minus\", which placed it among the top thirty cities in the world.')"
            ]
          },
          "metadata": {}
        },
        {
          "output_type": "display_data",
          "data": {
            "text/plain": [
              "('Footer', 'My company ABCD#3487RE')"
            ]
          },
          "metadata": {}
        },
        {
          "output_type": "display_data",
          "data": {
            "text/plain": [
              "('UncategorizedText', '3')"
            ]
          },
          "metadata": {}
        }
      ]
    },
    {
      "cell_type": "code",
      "source": [
        "# # get footer and uncategorized text\n",
        "elements_dict = convert_to_dict(elements_fast)\n",
        "extracted_elements_fast = []\n",
        "for el in elements_dict:\n",
        "  if el[\"type\"] in ['UncategorizedText','Footer' ]:\n",
        "    extracted_elements_fast.append(el[\"text\"])\n",
        "\n",
        "extracted_elements_fast = list(set(extracted_elements_fast))\n",
        "extracted_elements_fast"
      ],
      "metadata": {
        "colab": {
          "base_uri": "https://localhost:8080/"
        },
        "id": "KBOjy2FtWFRb",
        "outputId": "75ebe41c-29ce-4ff6-9b8a-4225f40cca74"
      },
      "execution_count": 79,
      "outputs": [
        {
          "output_type": "execute_result",
          "data": {
            "text/plain": [
              "['2', '3', 'My company ABCD#3487RE', '1']"
            ]
          },
          "metadata": {},
          "execution_count": 79
        }
      ]
    },
    {
      "cell_type": "code",
      "source": [
        "# get footer\n",
        "# elements_dict = convert_to_dict(elements_fast)\n",
        "# extracted_elements_fast = []\n",
        "# for el in elements_dict:\n",
        "#   if el[\"type\"] in ['Footer' ]:\n",
        "#     extracted_elements_fast.append(el[\"text\"])\n",
        "\n",
        "# extracted_elements_fast_footer = list(set(extracted_elements_fast))\n",
        "# extracted_elements_fast_footer"
      ],
      "metadata": {
        "id": "QqgnITPrv4f4"
      },
      "execution_count": null,
      "outputs": []
    },
    {
      "cell_type": "code",
      "source": [
        "from unstructured.staging.base import convert_to_dict\n",
        "import re\n",
        "from unstructured.cleaners.core import (clean, clean_extra_whitespace,\n",
        "                                        clean_non_ascii_chars)\n",
        "from unstructured.staging.base import convert_to_dataframe\n",
        "import pandas as pd\n",
        "\n",
        "categories_to_remove = ['Header',\n",
        "                        'UncategorizedText',\n",
        "                        'Image',\n",
        "                        'Footer',\n",
        "                        ]\n",
        "\n",
        "\n",
        "def clean_html_tag(x):\n",
        "  return re.sub(re.compile('<.*?>'), ' ', x)\n",
        "\n",
        "\n",
        "def remove_table_index(x):\n",
        "  return re.sub(re.compile('\\n\\d+'), '\\n', x)\n",
        "\n",
        "# logic\n",
        "# if type is table, extract table as series of strings that look like a table\n",
        "# else, gets text as the package extracted\n",
        "\n",
        "elements_dict = convert_to_dict(elements)\n",
        "extracted_elements = []\n",
        "for el in elements_dict:\n",
        "  if el[\"type\"] not in categories_to_remove:\n",
        "    if el[\"type\"] == \"Table\":\n",
        "\n",
        "      # just for debug: table as html\n",
        "      extracted_elements.append('html table: ' + el[\"metadata\"][\"text_as_html\"])\n",
        "\n",
        "      # get table as text and text_as_html, clean tags\n",
        "      extracted_elements.append(clean_extra_whitespace(\n",
        "                                  clean_non_ascii_chars(\n",
        "                                      clean_html_tag(\n",
        "                                          el[\"metadata\"][\"text_as_html\"]).replace(\"    \",'; ').replace(\"   \",\"\")\n",
        "                                    )))\n",
        "\n",
        "      # extract table as series of strings that look like a table\n",
        "      table_as_str = str(pd.read_html(el[\"metadata\"][\"text_as_html\"]))\n",
        "      table_as_str = table_as_str[1:-1]\n",
        "      extracted_elements.append(remove_table_index(table_as_str))\n",
        "\n",
        "    else:\n",
        "      extracted_elements.append(clean_extra_whitespace(\n",
        "                                  clean_non_ascii_chars(\n",
        "                                      el[\"text\"])\n",
        "                                  ))\n",
        "\n",
        "\n",
        "\n",
        "print(\"\\n\\n\".join(extracted_elements))\n",
        "# extracted_elements"
      ],
      "metadata": {
        "id": "FBPVRt_C-InB",
        "colab": {
          "base_uri": "https://localhost:8080/"
        },
        "outputId": "1e3fc4a8-0470-46f1-d532-184d328de11c"
      },
      "execution_count": 80,
      "outputs": [
        {
          "output_type": "stream",
          "name": "stdout",
          "text": [
            "The FIFA World Cup, often simply called the World Cup, is an international association football competition between the senior men's national teams of the members of the Fdration Internationale de Football Association (FIFA), the sport's global governing body.\n",
            "\n",
            "Table in a human readable format\n",
            "\n",
            "html table: <table><thead><th>Date</th><th>24 April 2024</th></thead><tr><td>Account manager</td><td>Fernando</td></tr><tr><td>Registration number</td><td>FGT#344</td></tr></table>\n",
            "\n",
            "Date 24 April 2024; Account manager Fernando; Registration number FGT#344\n",
            "\n",
            "                  Date 24 April 2024\n",
            "      Account manager      Fernando\n",
            "  Registration number       FGT#344\n",
            "\n",
            "Table in a not so much human readable format\n",
            "\n",
            "html table: <table><tr><td>Property</td><td>Joe Doe</td><td>25 April 2024</td></tr></table>\n",
            "\n",
            "Property Joe Doe 25 April 2024\n",
            "\n",
            "          0        1              2\n",
            "  Property  Joe Doe  25 April 2024\n",
            "\n",
            "Table in a tabular format\n",
            "\n",
            "html table: <table><thead><th>Id</th><th>Product</th><th>Metric</th></thead><tr><td>1</td><td>A</td><td>11</td></tr><tr><td>2</td><td>B</td><td>87</td></tr></table>\n",
            "\n",
            "Id Product Metric; 1 A 11; 2 B 87\n",
            "\n",
            "   Id Product  Metric\n",
            "   1       A      11\n",
            "   2       B      87\n",
            "\n",
            "My company ABCD#3487RE\n",
            "\n",
            "This is to clean non ascii characters\n",
            "\n",
            "\\x88This text containsnon-ascii characters!\n",
            "\n",
            "This is ordered bullets bullets\n",
            "\n",
            "1 This is a very important point 1.1 That is another point 1.2 Followed by a super important 2 That is other thing\n",
            "\n",
            "This is bullets\n",
            "\n",
            "This is a very important point o That is another point o Followed by a super important\n",
            "\n",
            "That is other thing\n",
            "\n",
            "A settlement was established in the area by the Gaels during or before the 7th century,[13] followed by the Vikings. As the Kingdom of Dublin grew, it became Ireland's principal settlement by the 12th century Anglo-Norman invasion of Ireland.[13] The city expanded rapidly from the 17th century and was briefly the second largest in the British Empire and sixth largest in Western Europe after the Acts\n",
            "\n",
            "My company ABCD#3487RE\n",
            "\n",
            "of Union in 1800.[14] Following independence in 1922, Dublin became the capital of the Irish Free State, renamed Ireland in 1937. As of 2018, the city was listed by the Globalization and World Cities Research Network (GaWC) as a global city, with a ranking of \"Alpha minus\", which placed it among the top thirty cities in the world.\n",
            "\n",
            "My company ABCD#3487RE\n"
          ]
        }
      ]
    },
    {
      "cell_type": "markdown",
      "source": [
        "content above contains footer. remove it based on extracted_elements_fast"
      ],
      "metadata": {
        "id": "zFCKd4gPwc-M"
      }
    },
    {
      "cell_type": "code",
      "source": [
        "final_list = []\n",
        "for el in extracted_elements:\n",
        "  if el not in extracted_elements_fast:\n",
        "    final_list.append(el)\n",
        "\n",
        "\n",
        "final_list = \"\\n\\n\".join(final_list)\n",
        "print(final_list)\n",
        "\n",
        "# it still does not manage paragraph that starts in one page and finished in the next page"
      ],
      "metadata": {
        "id": "wNkLoR4Gz9Ab",
        "colab": {
          "base_uri": "https://localhost:8080/"
        },
        "outputId": "fd9eb6c5-062d-4abf-b220-48dfcf4faada"
      },
      "execution_count": 81,
      "outputs": [
        {
          "output_type": "stream",
          "name": "stdout",
          "text": [
            "The FIFA World Cup, often simply called the World Cup, is an international association football competition between the senior men's national teams of the members of the Fdration Internationale de Football Association (FIFA), the sport's global governing body.\n",
            "\n",
            "Table in a human readable format\n",
            "\n",
            "html table: <table><thead><th>Date</th><th>24 April 2024</th></thead><tr><td>Account manager</td><td>Fernando</td></tr><tr><td>Registration number</td><td>FGT#344</td></tr></table>\n",
            "\n",
            "Date 24 April 2024; Account manager Fernando; Registration number FGT#344\n",
            "\n",
            "                  Date 24 April 2024\n",
            "      Account manager      Fernando\n",
            "  Registration number       FGT#344\n",
            "\n",
            "Table in a not so much human readable format\n",
            "\n",
            "html table: <table><tr><td>Property</td><td>Joe Doe</td><td>25 April 2024</td></tr></table>\n",
            "\n",
            "Property Joe Doe 25 April 2024\n",
            "\n",
            "          0        1              2\n",
            "  Property  Joe Doe  25 April 2024\n",
            "\n",
            "Table in a tabular format\n",
            "\n",
            "html table: <table><thead><th>Id</th><th>Product</th><th>Metric</th></thead><tr><td>1</td><td>A</td><td>11</td></tr><tr><td>2</td><td>B</td><td>87</td></tr></table>\n",
            "\n",
            "Id Product Metric; 1 A 11; 2 B 87\n",
            "\n",
            "   Id Product  Metric\n",
            "   1       A      11\n",
            "   2       B      87\n",
            "\n",
            "This is to clean non ascii characters\n",
            "\n",
            "\\x88This text containsnon-ascii characters!\n",
            "\n",
            "This is ordered bullets bullets\n",
            "\n",
            "1 This is a very important point 1.1 That is another point 1.2 Followed by a super important 2 That is other thing\n",
            "\n",
            "This is bullets\n",
            "\n",
            "This is a very important point o That is another point o Followed by a super important\n",
            "\n",
            "That is other thing\n",
            "\n",
            "A settlement was established in the area by the Gaels during or before the 7th century,[13] followed by the Vikings. As the Kingdom of Dublin grew, it became Ireland's principal settlement by the 12th century Anglo-Norman invasion of Ireland.[13] The city expanded rapidly from the 17th century and was briefly the second largest in the British Empire and sixth largest in Western Europe after the Acts\n",
            "\n",
            "of Union in 1800.[14] Following independence in 1922, Dublin became the capital of the Irish Free State, renamed Ireland in 1937. As of 2018, the city was listed by the Globalization and World Cities Research Network (GaWC) as a global city, with a ranking of \"Alpha minus\", which placed it among the top thirty cities in the world.\n"
          ]
        }
      ]
    },
    {
      "cell_type": "code",
      "source": [],
      "metadata": {
        "id": "lAs_Zl8zglYw"
      },
      "execution_count": null,
      "outputs": []
    }
  ],
  "metadata": {
    "colab": {
      "provenance": []
    },
    "kernelspec": {
      "display_name": "Python 3",
      "name": "python3"
    },
    "language_info": {
      "name": "python"
    }
  },
  "nbformat": 4,
  "nbformat_minor": 0
}