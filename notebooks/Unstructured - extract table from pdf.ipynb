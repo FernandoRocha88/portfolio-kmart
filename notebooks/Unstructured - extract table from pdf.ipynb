{
  "cells": [
    {
      "cell_type": "markdown",
      "metadata": {
        "id": "BP8bdWSbBRqw"
      },
      "source": [
        "## Quick Tour\n",
        "\n",
        "The following examples show how to get started with the `unstructured` library. See\n",
        "our [documentation page](https://unstructured-io.github.io/unstructured) for a full description\n",
        "of the features in the library.\n",
        "\n",
        "Another way to try out the `unstructured` library is by running a docker container -- compatible with either Intel/AMD or Apple Silicon! Check out the [instructions for using the docker image](https://github.com/Unstructured-IO/unstructured#dizzy-instructions-for-using-the-docker-image)."
      ]
    },
    {
      "cell_type": "code",
      "source": [
        "# how it comes at package documentation\n",
        "!apt-get -qq install poppler-utils tesseract-ocr\n",
        "%pip install -q --user --upgrade pillow\n",
        "%pip install -q unstructured[\"all-docs\"]==0.12.5\n",
        "# %pip install -q --upgrade unstructured"
      ],
      "metadata": {
        "id": "vhBFvKy8ag2D"
      },
      "execution_count": null,
      "outputs": []
    },
    {
      "cell_type": "code",
      "source": [],
      "metadata": {
        "id": "t27qY2MwZoJI"
      },
      "execution_count": null,
      "outputs": []
    },
    {
      "cell_type": "code",
      "execution_count": null,
      "metadata": {
        "id": "jZp37lfueaeZ"
      },
      "outputs": [],
      "source": [
        "# !apt-get -qq install poppler-utils tesseract-ocr\n",
        "%pip install -q --user --upgrade pillow\n",
        "%pip install -q unstructured[pdf,image,local-inference]==0.13.3\n",
        "%pip install libmagic\n",
        "%pip install poppler-utils\n",
        "%pip install tessearct-ocr\n",
        "%pip install pandoc\n",
        "# %pip install -q --upgrade unstructured"
      ]
    },
    {
      "cell_type": "code",
      "source": [
        "!apt-get -qq install poppler-utils tesseract-ocr"
      ],
      "metadata": {
        "id": "JRTOiLY1h7Sn"
      },
      "execution_count": null,
      "outputs": []
    },
    {
      "cell_type": "code",
      "source": [
        "# !pip show tesseract-ocr"
      ],
      "metadata": {
        "id": "P8zK1njPYpAH"
      },
      "execution_count": null,
      "outputs": []
    },
    {
      "cell_type": "markdown",
      "metadata": {
        "id": "Aq7KaO6NtYXY"
      },
      "source": [
        "See our [example docs page](https://github.com/Unstructured-IO/unstructured/tree/main/example-docs) to find example docs used in this tutorial. You can also upload your own files by clicking on “Choose Files” on the left panel then select and upload the file to Colab."
      ]
    },
    {
      "cell_type": "code",
      "execution_count": null,
      "metadata": {
        "id": "F2JBqRZgtq2Z"
      },
      "outputs": [],
      "source": [
        "!mkdir -p example-docs\n",
        "# Install example-10k.html and layout-parser-paper.pdf\n",
        "!wget  https://raw.githubusercontent.com/Unstructured-IO/unstructured/main/example-docs/example-10k.html -P example-docs\n",
        "!wget  https://raw.githubusercontent.com/Unstructured-IO/unstructured/main/example-docs/layout-parser-paper-fast.pdf -P example-docs\n",
        "\n",
        "# Install NLTK Data\n",
        "import nltk\n",
        "nltk.download('punkt')\n",
        "nltk.download('averaged_perceptron_tagger')"
      ]
    },
    {
      "cell_type": "markdown",
      "metadata": {
        "id": "vfurRdAnGagZ"
      },
      "source": [
        "### PDF Parsing\n",
        "\n",
        "There are two strategies availalbe for parsing PDF documents: \"fast\" and \"hi_res.\" The default strategy is \"hi_res\"\n",
        "\n",
        "If your main objective is extracting text from a \"clean\" PDF, i.e. one that does not include text in images that require OCR), go with the \"fast\" option.\n",
        "\n",
        "Otherwise, if your PDF may have images with text to extract, or, you prefer to have better structured Elements that better characterize the text items within the document, go with with the \"hi_res\" option.\n",
        "\n",
        "Naturally, \"fast\" is faster than \"hi_res\" -- by an order of magnitude!"
      ]
    },
    {
      "cell_type": "code",
      "source": [
        "# https://medium.com/unstructured-io/mastering-table-extraction-revolutionize-your-earnings-reports-analysis-with-ai-1bc32c22720e\n",
        "\n",
        "\n",
        "# https://unstructured-io.github.io/unstructured/core/partition.html"
      ],
      "metadata": {
        "id": "dQkexRc8a-pp"
      },
      "execution_count": null,
      "outputs": []
    },
    {
      "cell_type": "code",
      "execution_count": null,
      "metadata": {
        "id": "E_WN7p3JGcLJ"
      },
      "outputs": [],
      "source": [
        "from unstructured.partition.pdf import partition_pdf\n",
        "# from unstructured.partition.auto import partition\n",
        "filename = \"example-docs/pdf example.pdf\"\n",
        "# filename = 'example-docs/pdf example - footer with words.pdf'\n",
        "# filename = 'example-docs/pdf example - simple footer at bottom.pdf'\n",
        "# filename = 'example-docs/Q3FY24-CFO-Commentary.pdf'\n",
        "\n",
        "# elements = partition_pdf(filename, strategy='fast')\n",
        "\n",
        "elements = partition_pdf(filename,\n",
        "                         strategy='hi_res', # \"auto\", \"hi_res\", \"ocr_only\", and \"fast\".\n",
        "                         infer_table_structure=True,\n",
        "                         model_name = \"yolox\",\n",
        "                        #  include_page_breaks=True,\n",
        "                        #  extract_element_types=[\"Table\"],\n",
        "                        #  extract_images_in_pdf=True,\n",
        "                        #  extract_image_block_output_dir=\"example-docs\",\n",
        "                        #  languages=[\"eng\", \"pt\"]\n",
        "                         )"
      ]
    },
    {
      "cell_type": "code",
      "execution_count": null,
      "metadata": {
        "id": "peiuDBlv2imF"
      },
      "outputs": [],
      "source": [
        "from collections import Counter\n",
        "display(Counter(type(element) for element in elements))"
      ]
    },
    {
      "cell_type": "markdown",
      "metadata": {
        "id": "5Iq8hR-x9Ti1"
      },
      "source": [
        "Let's display the type and text of the elements in the document:"
      ]
    },
    {
      "cell_type": "code",
      "execution_count": null,
      "metadata": {
        "id": "prVGy4uc7YpB"
      },
      "outputs": [],
      "source": [
        "display(*[(element.category, element.text) for element in elements])"
      ]
    },
    {
      "cell_type": "code",
      "execution_count": null,
      "metadata": {
        "id": "sB8UAQPQHDT5"
      },
      "outputs": [],
      "source": [
        "categories_to_remove = ['Header',\n",
        "                        'UncategorizedText',\n",
        "                        'Image',\n",
        "                        'Footer',\n",
        "                        # 'Title'\n",
        "                        ]\n",
        "# result = \"\\n\\n\".join([str(el) for el in elements if el.category not in categories_to_remove])\n",
        "# print(result)"
      ]
    },
    {
      "cell_type": "code",
      "source": [
        "# pipeline\n",
        "  # convert elements to dict\n",
        "  # get table as text and text_as_html\n",
        "  # clean tags\n",
        "\n",
        "from unstructured.staging.base import convert_to_dict\n",
        "import re\n",
        "from unstructured.cleaners.core import (clean_extra_whitespace,\n",
        "                                        clean_non_ascii_chars)\n",
        "\n",
        "\n",
        "def clean_html_tag(raw_html):\n",
        "  # return re.compile(r'<[^>]+>').sub(' ', raw_html)\n",
        "  return re.sub(re.compile('<.*?>'), ' ', raw_html)\n",
        "\n",
        "\n",
        "elements_dict = convert_to_dict(elements)\n",
        "extracted_elements = []\n",
        "for el in elements_dict:\n",
        "  if el[\"type\"] not in categories_to_remove:\n",
        "    if el[\"type\"] == \"Table\":\n",
        "      extracted_elements.append('html table: ' + el[\"metadata\"][\"text_as_html\"])\n",
        "      extracted_elements.append(clean_extra_whitespace(\n",
        "                                  clean_non_ascii_chars(\n",
        "                                      clean_html_tag(\n",
        "                                          el[\"metadata\"][\"text_as_html\"]).replace(\"    \",'; ').replace(\"   \",\"\")\n",
        "                                    )))\n",
        "\n",
        "    extracted_elements.append(clean_extra_whitespace(\n",
        "                                  clean_non_ascii_chars(\n",
        "                                      el[\"text\"]\n",
        "                                  )))\n",
        "\n",
        "\n",
        "extracted_elements = \"\\n\\n\".join(extracted_elements)\n",
        "print(extracted_elements)\n",
        "\n"
      ],
      "metadata": {
        "id": "FBPVRt_C-InB"
      },
      "execution_count": null,
      "outputs": []
    },
    {
      "cell_type": "code",
      "source": [
        "\n"
      ],
      "metadata": {
        "id": "wNkLoR4Gz9Ab"
      },
      "execution_count": null,
      "outputs": []
    },
    {
      "cell_type": "code",
      "source": [],
      "metadata": {
        "id": "lAs_Zl8zglYw"
      },
      "execution_count": null,
      "outputs": []
    }
  ],
  "metadata": {
    "colab": {
      "provenance": []
    },
    "kernelspec": {
      "display_name": "Python 3",
      "name": "python3"
    },
    "language_info": {
      "name": "python"
    }
  },
  "nbformat": 4,
  "nbformat_minor": 0
}