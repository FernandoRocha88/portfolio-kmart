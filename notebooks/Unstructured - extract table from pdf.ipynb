{
  "cells": [
    {
      "cell_type": "markdown",
      "metadata": {
        "id": "BP8bdWSbBRqw"
      },
      "source": [
        "## Quick Tour\n",
        "\n",
        "The following examples show how to get started with the `unstructured` library. See\n",
        "our [documentation page](https://unstructured-io.github.io/unstructured) for a full description\n",
        "of the features in the library.\n",
        "\n",
        "Another way to try out the `unstructured` library is by running a docker container -- compatible with either Intel/AMD or Apple Silicon! Check out the [instructions for using the docker image](https://github.com/Unstructured-IO/unstructured#dizzy-instructions-for-using-the-docker-image)."
      ]
    },
    {
      "cell_type": "code",
      "execution_count": 1,
      "metadata": {
        "id": "jZp37lfueaeZ",
        "colab": {
          "base_uri": "https://localhost:8080/"
        },
        "outputId": "679e0196-11fc-4a27-e383-6192c4cb794a"
      },
      "outputs": [
        {
          "output_type": "stream",
          "name": "stdout",
          "text": [
            "Selecting previously unselected package poppler-utils.\n",
            "(Reading database ... 121752 files and directories currently installed.)\n",
            "Preparing to unpack .../poppler-utils_22.02.0-2ubuntu0.3_amd64.deb ...\n",
            "Unpacking poppler-utils (22.02.0-2ubuntu0.3) ...\n",
            "Selecting previously unselected package tesseract-ocr-eng.\n",
            "Preparing to unpack .../tesseract-ocr-eng_1%3a4.00~git30-7274cfa-1.1_all.deb ...\n",
            "Unpacking tesseract-ocr-eng (1:4.00~git30-7274cfa-1.1) ...\n",
            "Selecting previously unselected package tesseract-ocr-osd.\n",
            "Preparing to unpack .../tesseract-ocr-osd_1%3a4.00~git30-7274cfa-1.1_all.deb ...\n",
            "Unpacking tesseract-ocr-osd (1:4.00~git30-7274cfa-1.1) ...\n",
            "Selecting previously unselected package tesseract-ocr.\n",
            "Preparing to unpack .../tesseract-ocr_4.1.1-2.1build1_amd64.deb ...\n",
            "Unpacking tesseract-ocr (4.1.1-2.1build1) ...\n",
            "Setting up tesseract-ocr-eng (1:4.00~git30-7274cfa-1.1) ...\n",
            "Setting up tesseract-ocr-osd (1:4.00~git30-7274cfa-1.1) ...\n",
            "Setting up poppler-utils (22.02.0-2ubuntu0.3) ...\n",
            "Setting up tesseract-ocr (4.1.1-2.1build1) ...\n",
            "Processing triggers for man-db (2.10.2-1) ...\n",
            "\u001b[2K     \u001b[90m━━━━━━━━━━━━━━━━━━━━━━━━━━━━━━━━━━━━━━━━\u001b[0m \u001b[32m4.5/4.5 MB\u001b[0m \u001b[31m11.5 MB/s\u001b[0m eta \u001b[36m0:00:00\u001b[0m\n",
            "\u001b[?25h\u001b[31mERROR: pip's dependency resolver does not currently take into account all the packages that are installed. This behaviour is the source of the following dependency conflicts.\n",
            "imageio 2.31.6 requires pillow<10.1.0,>=8.3.2, but you have pillow 10.3.0 which is incompatible.\u001b[0m\u001b[31m\n",
            "\u001b[2K     \u001b[90m━━━━━━━━━━━━━━━━━━━━━━━━━━━━━━━━━━━━━━━━\u001b[0m \u001b[32m1.8/1.8 MB\u001b[0m \u001b[31m10.0 MB/s\u001b[0m eta \u001b[36m0:00:00\u001b[0m\n",
            "\u001b[2K     \u001b[90m━━━━━━━━━━━━━━━━━━━━━━━━━━━━━━━━━━━━━━━━\u001b[0m \u001b[32m433.8/433.8 kB\u001b[0m \u001b[31m12.8 MB/s\u001b[0m eta \u001b[36m0:00:00\u001b[0m\n",
            "\u001b[2K     \u001b[90m━━━━━━━━━━━━━━━━━━━━━━━━━━━━━━━━━━━━━━━━\u001b[0m \u001b[32m274.7/274.7 kB\u001b[0m \u001b[31m12.1 MB/s\u001b[0m eta \u001b[36m0:00:00\u001b[0m\n",
            "\u001b[2K     \u001b[90m━━━━━━━━━━━━━━━━━━━━━━━━━━━━━━━━━━━━━━━━\u001b[0m \u001b[32m981.5/981.5 kB\u001b[0m \u001b[31m17.6 MB/s\u001b[0m eta \u001b[36m0:00:00\u001b[0m\n",
            "\u001b[?25h  Preparing metadata (setup.py) ... \u001b[?25l\u001b[?25hdone\n",
            "\u001b[2K     \u001b[90m━━━━━━━━━━━━━━━━━━━━━━━━━━━━━━━━━━━━━━━━\u001b[0m \u001b[32m3.4/3.4 MB\u001b[0m \u001b[31m19.0 MB/s\u001b[0m eta \u001b[36m0:00:00\u001b[0m\n",
            "\u001b[2K     \u001b[90m━━━━━━━━━━━━━━━━━━━━━━━━━━━━━━━━━━━━━━━━\u001b[0m \u001b[32m239.6/239.6 kB\u001b[0m \u001b[31m19.1 MB/s\u001b[0m eta \u001b[36m0:00:00\u001b[0m\n",
            "\u001b[2K     \u001b[90m━━━━━━━━━━━━━━━━━━━━━━━━━━━━━━━━━━━━━━━━\u001b[0m \u001b[32m290.4/290.4 kB\u001b[0m \u001b[31m21.2 MB/s\u001b[0m eta \u001b[36m0:00:00\u001b[0m\n",
            "\u001b[2K     \u001b[90m━━━━━━━━━━━━━━━━━━━━━━━━━━━━━━━━━━━━━━━━\u001b[0m \u001b[32m7.5/7.5 MB\u001b[0m \u001b[31m38.9 MB/s\u001b[0m eta \u001b[36m0:00:00\u001b[0m\n",
            "\u001b[2K     \u001b[90m━━━━━━━━━━━━━━━━━━━━━━━━━━━━━━━━━━━━━━━━\u001b[0m \u001b[32m471.6/471.6 kB\u001b[0m \u001b[31m35.8 MB/s\u001b[0m eta \u001b[36m0:00:00\u001b[0m\n",
            "\u001b[2K     \u001b[90m━━━━━━━━━━━━━━━━━━━━━━━━━━━━━━━━━━━━━━━━\u001b[0m \u001b[32m2.4/2.4 MB\u001b[0m \u001b[31m16.7 MB/s\u001b[0m eta \u001b[36m0:00:00\u001b[0m\n",
            "\u001b[2K     \u001b[90m━━━━━━━━━━━━━━━━━━━━━━━━━━━━━━━━━━━━━━━━\u001b[0m \u001b[32m15.9/15.9 MB\u001b[0m \u001b[31m52.6 MB/s\u001b[0m eta \u001b[36m0:00:00\u001b[0m\n",
            "\u001b[2K     \u001b[90m━━━━━━━━━━━━━━━━━━━━━━━━━━━━━━━━━━━━━━━━\u001b[0m \u001b[32m60.1/60.1 kB\u001b[0m \u001b[31m6.4 MB/s\u001b[0m eta \u001b[36m0:00:00\u001b[0m\n",
            "\u001b[2K     \u001b[90m━━━━━━━━━━━━━━━━━━━━━━━━━━━━━━━━━━━━━━━━\u001b[0m \u001b[32m101.8/101.8 kB\u001b[0m \u001b[31m11.0 MB/s\u001b[0m eta \u001b[36m0:00:00\u001b[0m\n",
            "\u001b[2K     \u001b[90m━━━━━━━━━━━━━━━━━━━━━━━━━━━━━━━━━━━━━━━━\u001b[0m \u001b[32m5.6/5.6 MB\u001b[0m \u001b[31m57.5 MB/s\u001b[0m eta \u001b[36m0:00:00\u001b[0m\n",
            "\u001b[2K     \u001b[90m━━━━━━━━━━━━━━━━━━━━━━━━━━━━━━━━━━━━━━━━\u001b[0m \u001b[32m19.2/19.2 MB\u001b[0m \u001b[31m52.4 MB/s\u001b[0m eta \u001b[36m0:00:00\u001b[0m\n",
            "\u001b[2K     \u001b[90m━━━━━━━━━━━━━━━━━━━━━━━━━━━━━━━━━━━━━━━━\u001b[0m \u001b[32m5.9/5.9 MB\u001b[0m \u001b[31m79.7 MB/s\u001b[0m eta \u001b[36m0:00:00\u001b[0m\n",
            "\u001b[2K     \u001b[90m━━━━━━━━━━━━━━━━━━━━━━━━━━━━━━━━━━━━━━━━\u001b[0m \u001b[32m159.9/159.9 kB\u001b[0m \u001b[31m15.8 MB/s\u001b[0m eta \u001b[36m0:00:00\u001b[0m\n",
            "\u001b[2K     \u001b[90m━━━━━━━━━━━━━━━━━━━━━━━━━━━━━━━━━━━━━━━━\u001b[0m \u001b[32m80.8/80.8 kB\u001b[0m \u001b[31m9.3 MB/s\u001b[0m eta \u001b[36m0:00:00\u001b[0m\n",
            "\u001b[2K     \u001b[90m━━━━━━━━━━━━━━━━━━━━━━━━━━━━━━━━━━━━━━━━\u001b[0m \u001b[32m49.4/49.4 kB\u001b[0m \u001b[31m322.2 kB/s\u001b[0m eta \u001b[36m0:00:00\u001b[0m\n",
            "\u001b[2K     \u001b[90m━━━━━━━━━━━━━━━━━━━━━━━━━━━━━━━━━━━━━━━━\u001b[0m \u001b[32m114.6/114.6 kB\u001b[0m \u001b[31m11.5 MB/s\u001b[0m eta \u001b[36m0:00:00\u001b[0m\n",
            "\u001b[2K     \u001b[90m━━━━━━━━━━━━━━━━━━━━━━━━━━━━━━━━━━━━━━━━\u001b[0m \u001b[32m46.0/46.0 kB\u001b[0m \u001b[31m4.5 MB/s\u001b[0m eta \u001b[36m0:00:00\u001b[0m\n",
            "\u001b[2K     \u001b[90m━━━━━━━━━━━━━━━━━━━━━━━━━━━━━━━━━━━━━━━━\u001b[0m \u001b[32m42.2/42.2 kB\u001b[0m \u001b[31m3.9 MB/s\u001b[0m eta \u001b[36m0:00:00\u001b[0m\n",
            "\u001b[?25h  Preparing metadata (setup.py) ... \u001b[?25l\u001b[?25hdone\n",
            "\u001b[2K     \u001b[90m━━━━━━━━━━━━━━━━━━━━━━━━━━━━━━━━━━━━━━━━\u001b[0m \u001b[32m56.4/56.4 kB\u001b[0m \u001b[31m5.6 MB/s\u001b[0m eta \u001b[36m0:00:00\u001b[0m\n",
            "\u001b[2K     \u001b[90m━━━━━━━━━━━━━━━━━━━━━━━━━━━━━━━━━━━━━━━━\u001b[0m \u001b[32m112.5/112.5 kB\u001b[0m \u001b[31m12.2 MB/s\u001b[0m eta \u001b[36m0:00:00\u001b[0m\n",
            "\u001b[2K     \u001b[90m━━━━━━━━━━━━━━━━━━━━━━━━━━━━━━━━━━━━━━━━\u001b[0m \u001b[32m86.8/86.8 kB\u001b[0m \u001b[31m9.3 MB/s\u001b[0m eta \u001b[36m0:00:00\u001b[0m\n",
            "\u001b[2K     \u001b[90m━━━━━━━━━━━━━━━━━━━━━━━━━━━━━━━━━━━━━━━━\u001b[0m \u001b[32m2.2/2.2 MB\u001b[0m \u001b[31m46.3 MB/s\u001b[0m eta \u001b[36m0:00:00\u001b[0m\n",
            "\u001b[2K     \u001b[90m━━━━━━━━━━━━━━━━━━━━━━━━━━━━━━━━━━━━━━━━\u001b[0m \u001b[32m79.5/79.5 kB\u001b[0m \u001b[31m8.1 MB/s\u001b[0m eta \u001b[36m0:00:00\u001b[0m\n",
            "\u001b[2K     \u001b[90m━━━━━━━━━━━━━━━━━━━━━━━━━━━━━━━━━━━━━━━━\u001b[0m \u001b[32m2.8/2.8 MB\u001b[0m \u001b[31m54.9 MB/s\u001b[0m eta \u001b[36m0:00:00\u001b[0m\n",
            "\u001b[2K     \u001b[90m━━━━━━━━━━━━━━━━━━━━━━━━━━━━━━━━━━━━━━━━\u001b[0m \u001b[32m117.0/117.0 kB\u001b[0m \u001b[31m11.2 MB/s\u001b[0m eta \u001b[36m0:00:00\u001b[0m\n",
            "\u001b[?25h  Preparing metadata (setup.py) ... \u001b[?25l\u001b[?25hdone\n",
            "  Building wheel for langdetect (setup.py) ... \u001b[?25l\u001b[?25hdone\n",
            "  Building wheel for iopath (setup.py) ... \u001b[?25l\u001b[?25hdone\n",
            "  Building wheel for antlr4-python3-runtime (setup.py) ... \u001b[?25l\u001b[?25hdone\n"
          ]
        }
      ],
      "source": [
        "# Install Requirements\n",
        "!apt-get -qq install poppler-utils tesseract-ocr\n",
        "# Upgrade Pillow to latest version\n",
        "%pip install -q --user --upgrade pillow\n",
        "# Install Python Packages\n",
        "%pip install -q unstructured[\"all-docs\"]==0.12.5\n",
        "# NOTE: you may also upgrade to the latest version with the command below,\n",
        "#       though a more recent version of unstructured will not have been tested with this notebook\n",
        "# %pip install -q --upgrade unstructured"
      ]
    },
    {
      "cell_type": "markdown",
      "metadata": {
        "id": "Aq7KaO6NtYXY"
      },
      "source": [
        "See our [example docs page](https://github.com/Unstructured-IO/unstructured/tree/main/example-docs) to find example docs used in this tutorial. You can also upload your own files by clicking on “Choose Files” on the left panel then select and upload the file to Colab."
      ]
    },
    {
      "cell_type": "code",
      "execution_count": 2,
      "metadata": {
        "id": "F2JBqRZgtq2Z",
        "colab": {
          "base_uri": "https://localhost:8080/"
        },
        "outputId": "65701a2b-7090-414b-86c6-d0f0641f25fe"
      },
      "outputs": [
        {
          "output_type": "stream",
          "name": "stdout",
          "text": [
            "--2024-04-23 15:48:12--  https://raw.githubusercontent.com/Unstructured-IO/unstructured/main/example-docs/example-10k.html\n",
            "Resolving raw.githubusercontent.com (raw.githubusercontent.com)... 185.199.110.133, 185.199.109.133, 185.199.108.133, ...\n",
            "Connecting to raw.githubusercontent.com (raw.githubusercontent.com)|185.199.110.133|:443... connected.\n",
            "HTTP request sent, awaiting response... 200 OK\n",
            "Length: 2456707 (2.3M) [text/plain]\n",
            "Saving to: ‘example-docs/example-10k.html’\n",
            "\n",
            "example-10k.html    100%[===================>]   2.34M  --.-KB/s    in 0.07s   \n",
            "\n",
            "2024-04-23 15:48:12 (35.7 MB/s) - ‘example-docs/example-10k.html’ saved [2456707/2456707]\n",
            "\n",
            "--2024-04-23 15:48:12--  https://raw.githubusercontent.com/Unstructured-IO/unstructured/main/example-docs/layout-parser-paper-fast.pdf\n",
            "Resolving raw.githubusercontent.com (raw.githubusercontent.com)... 185.199.108.133, 185.199.109.133, 185.199.110.133, ...\n",
            "Connecting to raw.githubusercontent.com (raw.githubusercontent.com)|185.199.108.133|:443... connected.\n",
            "HTTP request sent, awaiting response... 200 OK\n",
            "Length: 172270 (168K) [application/octet-stream]\n",
            "Saving to: ‘example-docs/layout-parser-paper-fast.pdf’\n",
            "\n",
            "layout-parser-paper 100%[===================>] 168.23K  --.-KB/s    in 0.02s   \n",
            "\n",
            "2024-04-23 15:48:13 (6.90 MB/s) - ‘example-docs/layout-parser-paper-fast.pdf’ saved [172270/172270]\n",
            "\n"
          ]
        }
      ],
      "source": [
        "!mkdir -p example-docs\n",
        "# Install example-10k.html and layout-parser-paper.pdf\n",
        "!wget  https://raw.githubusercontent.com/Unstructured-IO/unstructured/main/example-docs/example-10k.html -P example-docs\n",
        "!wget  https://raw.githubusercontent.com/Unstructured-IO/unstructured/main/example-docs/layout-parser-paper-fast.pdf -P example-docs"
      ]
    },
    {
      "cell_type": "code",
      "execution_count": 3,
      "metadata": {
        "id": "huxQF-koB_8t",
        "colab": {
          "base_uri": "https://localhost:8080/"
        },
        "outputId": "12bf6ded-6b48-4ca7-dc59-5ee0f1e898bf"
      },
      "outputs": [
        {
          "output_type": "stream",
          "name": "stderr",
          "text": [
            "[nltk_data] Downloading package punkt to /root/nltk_data...\n",
            "[nltk_data]   Unzipping tokenizers/punkt.zip.\n",
            "[nltk_data] Downloading package averaged_perceptron_tagger to\n",
            "[nltk_data]     /root/nltk_data...\n",
            "[nltk_data]   Unzipping taggers/averaged_perceptron_tagger.zip.\n"
          ]
        },
        {
          "output_type": "execute_result",
          "data": {
            "text/plain": [
              "True"
            ]
          },
          "metadata": {},
          "execution_count": 3
        }
      ],
      "source": [
        "# Install NLTK Data\n",
        "import nltk\n",
        "nltk.download('punkt')\n",
        "nltk.download('averaged_perceptron_tagger')"
      ]
    },
    {
      "cell_type": "markdown",
      "metadata": {
        "id": "zNtvbgOeCHg0"
      },
      "source": [
        "### HTML Parsing\n",
        "\n",
        "You can parse an HTML document using the following workflow:"
      ]
    },
    {
      "cell_type": "code",
      "execution_count": null,
      "metadata": {
        "id": "4JpZp1Cy8kFC"
      },
      "outputs": [],
      "source": [
        "from unstructured.documents.html import HTMLDocument\n",
        "\n",
        "doc = HTMLDocument.from_file(\"example-docs/example-10k.html\")\n",
        "\n",
        "# This is how you would use a document from your google Drive\n",
        "\"\"\"\n",
        "from google.colab import drive\n",
        "drive.mount('/content/drive/')\n",
        "doc = HTMLDocument.from_file(\"drive/MyDrive/your-filename.html\")\n",
        "\"\"\""
      ]
    },
    {
      "cell_type": "markdown",
      "metadata": {
        "id": "ZhUj4fniKBKN"
      },
      "source": [
        "The third page of output looks like the following:"
      ]
    },
    {
      "cell_type": "code",
      "execution_count": null,
      "metadata": {
        "id": "a3wq02uiKGoa"
      },
      "outputs": [],
      "source": [
        "print(doc.pages[2])"
      ]
    },
    {
      "cell_type": "code",
      "execution_count": null,
      "metadata": {
        "id": "X2jIJGn6GM-d"
      },
      "outputs": [],
      "source": [
        "doc.pages[2].elements"
      ]
    },
    {
      "cell_type": "markdown",
      "metadata": {
        "id": "ab9bqf94GO9Z"
      },
      "source": [
        "You can see that the parser successfully differentiated between titles and narrative text."
      ]
    },
    {
      "cell_type": "markdown",
      "metadata": {
        "id": "vfurRdAnGagZ"
      },
      "source": [
        "### PDF Parsing\n",
        "\n",
        "There are two strategies availalbe for parsing PDF documents: \"fast\" and \"hi_res.\" The default strategy is \"hi_res\"\n",
        "\n",
        "If your main objective is extracting text from a \"clean\" PDF, i.e. one that does not include text in images that require OCR), go with the \"fast\" option.\n",
        "\n",
        "Otherwise, if your PDF may have images with text to extract, or, you prefer to have better structured Elements that better characterize the text items within the document, go with with the \"hi_res\" option.\n",
        "\n",
        "Naturally, \"fast\" is faster than \"hi_res\" -- by an order of magnitude!"
      ]
    },
    {
      "cell_type": "code",
      "execution_count": 95,
      "metadata": {
        "id": "E_WN7p3JGcLJ"
      },
      "outputs": [],
      "source": [
        "from unstructured.partition.pdf import partition_pdf\n",
        "from unstructured.partition.auto import partition\n",
        "filename = \"example-docs/pdf example.pdf\"\n",
        "# filename = 'example-docs/Q3FY24-CFO-Commentary.pdf'\n",
        "\n",
        "elements = partition_pdf(filename,\n",
        "                         strategy='hi_res',\n",
        "                         infer_table_structure=True,\n",
        "                         model_name = \"yolox\")\n",
        "\n",
        "\n",
        "# elements = partition(filename=filename,\n",
        "#                      strategy='hi_res',\n",
        "#            )\n",
        "\n",
        "# elements_fast = partition_pdf(\"example-docs/layout-parser-paper-fast.pdf\", strategy=\"fast\")"
      ]
    },
    {
      "cell_type": "code",
      "source": [
        "# pipeline\n",
        "# save elements to json\n",
        "# get table as text and text_as_html\n",
        "# clean tags\n",
        "\n",
        "from unstructured.staging.base import convert_to_dict\n",
        "\n",
        "def cleanhtml(raw_html):\n",
        "  return re.compile(r'<[^>]+>').sub(' ', raw_html)\n",
        "\n",
        "data = convert_to_dict(elements)\n",
        "extracted_elements = []\n",
        "for entry in data:\n",
        "  if entry[\"type\"] == \"Table\":\n",
        "    extracted_elements.append(entry[\"metadata\"][\"text_as_html\"])\n",
        "    extracted_elements.append(entry[\"text\"])\n",
        "\n",
        "extracted_elements =  [cleanhtml(item) for item in extracted_elements]\n",
        "extracted_elements\n",
        "# with open(\"example-docs/nvidia-yolox.txt\", 'w') as output_file:\n",
        "#     for element in extracted_elements:\n",
        "#         output_file.write(element + \"\\n\\n\")"
      ],
      "metadata": {
        "id": "uXdX_RPl2go5",
        "outputId": "4efd54c6-e944-4eea-c382-50edee4332f4",
        "colab": {
          "base_uri": "https://localhost:8080/"
        }
      },
      "execution_count": 112,
      "outputs": [
        {
          "output_type": "execute_result",
          "data": {
            "text/plain": [
              "['   Account manager  Joe Doe    Registration policy  AC#23535POD   ',\n",
              " 'Insurance date Account manager Registration policy 22 April 2024 Joe Doe AC#23535POD',\n",
              " '   Insurance date  Account manager  Reg policy    22 April 2023  Joe Doe  ASDW#2343   ',\n",
              " 'Insurance date 22 April 2023 Account manager Joe Doe Reg policy ASDW#2343']"
            ]
          },
          "metadata": {},
          "execution_count": 112
        }
      ]
    },
    {
      "cell_type": "code",
      "source": [
        "# import json\n",
        "# import re\n",
        "# from unstructured.staging.base import elements_to_json\n",
        "# elements_to_json(elements, filename=f\"example-docs/nvidia.json\")\n",
        "\n",
        "\n",
        "# def cleanhtml(raw_html):\n",
        "#   return re.compile(r'<[^>]+>').sub(' ', raw_html)\n",
        "#   # cleantext = re.sub(re.compile('<.*?>'), '', raw_html)\n",
        "#   # return cleantext\n",
        "\n",
        "# def process_json_file(input_filename):\n",
        "#     # Read the JSON file\n",
        "#     with open(input_filename, 'r') as file:\n",
        "#         data = json.load(file)\n",
        "\n",
        "#     # Iterate over the JSON data and extract required table elements\n",
        "#     extracted_elements = []\n",
        "#     for entry in data:\n",
        "#         if entry[\"type\"] == \"Table\":\n",
        "#             extracted_elements.append(entry[\"metadata\"][\"text_as_html\"])\n",
        "#             extracted_elements.append(entry[\"text\"])\n",
        "\n",
        "#     extracted_elements =  [cleanhtml(item) for item in extracted_elements]\n",
        "#     with open(\"example-docs/nvidia-yolox.txt\", 'w') as output_file:\n",
        "#         for element in extracted_elements:\n",
        "#             output_file.write(element + \"\\n\\n\")\n",
        "\n",
        "# process_json_file(\"example-docs/nvidia.json\")"
      ],
      "metadata": {
        "id": "B7bZpukn3Bbr"
      },
      "execution_count": 108,
      "outputs": []
    },
    {
      "cell_type": "code",
      "source": [],
      "metadata": {
        "id": "mXDpq8mW6MSE"
      },
      "execution_count": 102,
      "outputs": []
    },
    {
      "cell_type": "code",
      "execution_count": 62,
      "metadata": {
        "id": "peiuDBlv2imF",
        "colab": {
          "base_uri": "https://localhost:8080/",
          "height": 104
        },
        "outputId": "3ea44930-eb2f-4853-eab1-0a9846528136"
      },
      "outputs": [
        {
          "output_type": "display_data",
          "data": {
            "text/plain": [
              "Counter({unstructured.documents.elements.Header: 2,\n",
              "         unstructured.documents.elements.NarrativeText: 6,\n",
              "         unstructured.documents.elements.Table: 2,\n",
              "         unstructured.documents.elements.Image: 2})"
            ]
          },
          "metadata": {}
        },
        {
          "output_type": "stream",
          "name": "stdout",
          "text": [
            "\n"
          ]
        }
      ],
      "source": [
        "from collections import Counter\n",
        "\n",
        "display(Counter(type(element) for element in elements))\n",
        "print(\"\")\n",
        "# The composition of elements can be different for elements derived with the \"fast\" strategy\n",
        "# display(Counter(type(element) for element in elements_fast))"
      ]
    },
    {
      "cell_type": "markdown",
      "metadata": {
        "id": "5Iq8hR-x9Ti1"
      },
      "source": [
        "Let's display the type and text of some of the elements in the document:"
      ]
    },
    {
      "cell_type": "code",
      "execution_count": null,
      "metadata": {
        "id": "prVGy4uc7YpB"
      },
      "outputs": [],
      "source": [
        "display(*[(element.category, element.text) for element in elements])"
      ]
    },
    {
      "cell_type": "markdown",
      "metadata": {
        "id": "IlBJ9SB9MIEv"
      },
      "source": [
        "You can see that the parser also successfully differentiated between titles and narrative text from a PDF file. However, be aware that element classification is improving as the library evolves, tends to be more accurate with the \"hi_res\" strategy, and may not always correct.\n",
        "\n",
        "Now we can join the elements and print the extracted texts from the PDF"
      ]
    },
    {
      "cell_type": "code",
      "execution_count": 64,
      "metadata": {
        "id": "sB8UAQPQHDT5",
        "colab": {
          "base_uri": "https://localhost:8080/"
        },
        "outputId": "a6219f19-76be-40e8-e20f-aa4a1ae04917"
      },
      "outputs": [
        {
          "output_type": "stream",
          "name": "stdout",
          "text": [
            "The FIFA World Cup, often simply called the World Cup, is an international association football competition between the senior men's national teams of the members of the Fédération Internationale de Football Association (FIFA), the sport's global governing body.\n",
            "\n",
            "This is a more human readable table format\n",
            "\n",
            "Insurance date Account manager Registration policy 22 April 2024 Joe Doe AC#23535POD\n",
            "\n",
            "This is another attempt\n",
            "\n",
            "Insurance date 22 April 2023 Account manager Joe Doe Reg policy ASDW#2343\n",
            "\n",
            "This is a footer 1\n",
            "\n",
            "To date, the final of the World Cup has only been contested by teams from the UEFA (Europe) and CONMEBOL (South America) confederations. European nations have won twelve titles, while South American nations have won ten. Only three teams from outside these two continents have ever\n",
            "\n",
            "This is a footer 2\n"
          ]
        }
      ],
      "source": [
        "categories_to_remove = ['Header',\n",
        "                        'UncategorizedText',\n",
        "                        'Image',\n",
        "                        'Footer'\n",
        "\n",
        "                        ]\n",
        "result = \"\\n\\n\".join([str(el) for el in elements if el.category not in categories_to_remove])\n",
        "print(result)\n",
        "\n",
        "# footer is not managed!"
      ]
    },
    {
      "cell_type": "code",
      "source": [
        "from unstructured.staging.base import convert_to_dict\n",
        "import re\n",
        "def cleanhtml(raw_html):\n",
        "  return re.compile(r'<[^>]+>').sub(' ', raw_html)\n",
        "\n",
        "data = convert_to_dict(elements)\n",
        "extracted_elements = []\n",
        "for entry in data:\n",
        "  if entry[\"type\"] not in categories_to_remove:\n",
        "    if entry[\"type\"] == \"Table\":\n",
        "      extracted_elements.append(entry[\"metadata\"][\"text_as_html\"] + ' - ' + entry['type'])\n",
        "    extracted_elements.append(entry[\"text\"] + ' - ' + entry['type'])\n",
        "\n",
        "extracted_elements =  [cleanhtml(item) for item in extracted_elements]\n",
        "\n",
        "extracted_elements = \"\\n\\n\".join(extracted_elements)\n",
        "print(extracted_elements)"
      ],
      "metadata": {
        "id": "FBPVRt_C-InB",
        "outputId": "a1da8a48-8198-4760-bcd3-49e9456979eb",
        "colab": {
          "base_uri": "https://localhost:8080/"
        }
      },
      "execution_count": 121,
      "outputs": [
        {
          "output_type": "stream",
          "name": "stdout",
          "text": [
            "The FIFA World Cup, often simply called the World Cup, is an international association football competition between the senior men's national teams of the members of the Fédération Internationale de Football Association (FIFA), the sport's global governing body. - NarrativeText\n",
            "\n",
            "This is a more human readable table format - NarrativeText\n",
            "\n",
            "   Account manager  Joe Doe    Registration policy  AC#23535POD    - Table\n",
            "\n",
            "Insurance date Account manager Registration policy 22 April 2024 Joe Doe AC#23535POD - Table\n",
            "\n",
            "This is another attempt - NarrativeText\n",
            "\n",
            "   Insurance date  Account manager  Reg policy    22 April 2023  Joe Doe  ASDW#2343    - Table\n",
            "\n",
            "Insurance date 22 April 2023 Account manager Joe Doe Reg policy ASDW#2343 - Table\n",
            "\n",
            "This is a footer 1 - NarrativeText\n",
            "\n",
            "To date, the final of the World Cup has only been contested by teams from the UEFA (Europe) and CONMEBOL (South America) confederations. European nations have won twelve titles, while South American nations have won ten. Only three teams from outside these two continents have ever - NarrativeText\n",
            "\n",
            "This is a footer 2 - NarrativeText\n"
          ]
        }
      ]
    },
    {
      "cell_type": "code",
      "source": [],
      "metadata": {
        "id": "wNkLoR4Gz9Ab"
      },
      "execution_count": null,
      "outputs": []
    }
  ],
  "metadata": {
    "colab": {
      "provenance": []
    },
    "kernelspec": {
      "display_name": "Python 3",
      "name": "python3"
    },
    "language_info": {
      "name": "python"
    }
  },
  "nbformat": 4,
  "nbformat_minor": 0
}